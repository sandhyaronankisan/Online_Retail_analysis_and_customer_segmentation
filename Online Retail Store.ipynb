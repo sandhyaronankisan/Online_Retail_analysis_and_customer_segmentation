{
 "cells": [
  {
   "cell_type": "markdown",
   "id": "885bf17a",
   "metadata": {},
   "source": [
    "# DATA SET"
   ]
  },
  {
   "cell_type": "markdown",
   "id": "dfc218aa",
   "metadata": {},
   "source": [
    " This data is from online retail store based in United Kingdom from 2009-12-01 to 2011-12-09."
   ]
  },
  {
   "cell_type": "markdown",
   "id": "02267f24",
   "metadata": {},
   "source": [
    "# VARIABLES"
   ]
  },
  {
   "cell_type": "markdown",
   "id": "7c7f67df",
   "metadata": {},
   "source": [
    "__Invoice__: Unique number for each transaction\n",
    "\n",
    "__StockCode__: Unique code for each product available\n",
    "\n",
    "__Description__: Product name in detail\n",
    "\n",
    "__Quantity__: Number of products sold\n",
    "\n",
    "__InvoiceDate__: Timestamp at the transaction of order\n",
    "\n",
    "__Price__: Cost of unit product\n",
    "\n",
    "__Customer ID__: Unique number for each customer\n",
    "\n",
    "__Country__: Country of customers"
   ]
  },
  {
   "cell_type": "markdown",
   "id": "772c1d83",
   "metadata": {},
   "source": [
    "# Business Problem"
   ]
  },
  {
   "cell_type": "markdown",
   "id": "12a019cf",
   "metadata": {},
   "source": [
    "An e-commerce company wants to know its performance, identify best customers, best selling products and \n",
    "segment its customers and determine marketing strategies according to these segments.\n",
    "For example, it is desirable to organize different campaigns to retain customers who are very profitable for the company, \n",
    "and different campaigns for new customers."
   ]
  },
  {
   "cell_type": "code",
   "execution_count": 1,
   "id": "2e49b922",
   "metadata": {},
   "outputs": [],
   "source": [
    "#IMPORTING LIBRARIES\n",
    "import pandas as pd\n",
    "import numpy as np\n",
    "import matplotlib.pyplot as plt\n",
    "import seaborn as sns\n"
   ]
  },
  {
   "cell_type": "code",
   "execution_count": 2,
   "id": "8e38ba8b",
   "metadata": {},
   "outputs": [
    {
     "data": {
      "text/html": [
       "<div>\n",
       "<style scoped>\n",
       "    .dataframe tbody tr th:only-of-type {\n",
       "        vertical-align: middle;\n",
       "    }\n",
       "\n",
       "    .dataframe tbody tr th {\n",
       "        vertical-align: top;\n",
       "    }\n",
       "\n",
       "    .dataframe thead th {\n",
       "        text-align: right;\n",
       "    }\n",
       "</style>\n",
       "<table border=\"1\" class=\"dataframe\">\n",
       "  <thead>\n",
       "    <tr style=\"text-align: right;\">\n",
       "      <th></th>\n",
       "      <th>Invoice</th>\n",
       "      <th>StockCode</th>\n",
       "      <th>Description</th>\n",
       "      <th>Quantity</th>\n",
       "      <th>InvoiceDate</th>\n",
       "      <th>Price</th>\n",
       "      <th>Customer ID</th>\n",
       "      <th>Country</th>\n",
       "    </tr>\n",
       "  </thead>\n",
       "  <tbody>\n",
       "    <tr>\n",
       "      <th>0</th>\n",
       "      <td>489434</td>\n",
       "      <td>85048</td>\n",
       "      <td>15CM CHRISTMAS GLASS BALL 20 LIGHTS</td>\n",
       "      <td>12</td>\n",
       "      <td>2009-12-01 07:45:00</td>\n",
       "      <td>6.95</td>\n",
       "      <td>13085.0</td>\n",
       "      <td>United Kingdom</td>\n",
       "    </tr>\n",
       "    <tr>\n",
       "      <th>1</th>\n",
       "      <td>489434</td>\n",
       "      <td>79323P</td>\n",
       "      <td>PINK CHERRY LIGHTS</td>\n",
       "      <td>12</td>\n",
       "      <td>2009-12-01 07:45:00</td>\n",
       "      <td>6.75</td>\n",
       "      <td>13085.0</td>\n",
       "      <td>United Kingdom</td>\n",
       "    </tr>\n",
       "    <tr>\n",
       "      <th>2</th>\n",
       "      <td>489434</td>\n",
       "      <td>79323W</td>\n",
       "      <td>WHITE CHERRY LIGHTS</td>\n",
       "      <td>12</td>\n",
       "      <td>2009-12-01 07:45:00</td>\n",
       "      <td>6.75</td>\n",
       "      <td>13085.0</td>\n",
       "      <td>United Kingdom</td>\n",
       "    </tr>\n",
       "    <tr>\n",
       "      <th>3</th>\n",
       "      <td>489434</td>\n",
       "      <td>22041</td>\n",
       "      <td>RECORD FRAME 7\" SINGLE SIZE</td>\n",
       "      <td>48</td>\n",
       "      <td>2009-12-01 07:45:00</td>\n",
       "      <td>2.10</td>\n",
       "      <td>13085.0</td>\n",
       "      <td>United Kingdom</td>\n",
       "    </tr>\n",
       "    <tr>\n",
       "      <th>4</th>\n",
       "      <td>489434</td>\n",
       "      <td>21232</td>\n",
       "      <td>STRAWBERRY CERAMIC TRINKET BOX</td>\n",
       "      <td>24</td>\n",
       "      <td>2009-12-01 07:45:00</td>\n",
       "      <td>1.25</td>\n",
       "      <td>13085.0</td>\n",
       "      <td>United Kingdom</td>\n",
       "    </tr>\n",
       "  </tbody>\n",
       "</table>\n",
       "</div>"
      ],
      "text/plain": [
       "  Invoice StockCode                          Description  Quantity  \\\n",
       "0  489434     85048  15CM CHRISTMAS GLASS BALL 20 LIGHTS        12   \n",
       "1  489434    79323P                   PINK CHERRY LIGHTS        12   \n",
       "2  489434    79323W                  WHITE CHERRY LIGHTS        12   \n",
       "3  489434     22041         RECORD FRAME 7\" SINGLE SIZE         48   \n",
       "4  489434     21232       STRAWBERRY CERAMIC TRINKET BOX        24   \n",
       "\n",
       "           InvoiceDate  Price  Customer ID         Country  \n",
       "0  2009-12-01 07:45:00   6.95      13085.0  United Kingdom  \n",
       "1  2009-12-01 07:45:00   6.75      13085.0  United Kingdom  \n",
       "2  2009-12-01 07:45:00   6.75      13085.0  United Kingdom  \n",
       "3  2009-12-01 07:45:00   2.10      13085.0  United Kingdom  \n",
       "4  2009-12-01 07:45:00   1.25      13085.0  United Kingdom  "
      ]
     },
     "execution_count": 2,
     "metadata": {},
     "output_type": "execute_result"
    }
   ],
   "source": [
    "# READING THE DATASET INTO DF DATAFRAME\n",
    "df=pd.read_csv(\"sales_dataset.txt\")\n",
    "df.head()"
   ]
  },
  {
   "cell_type": "code",
   "execution_count": 3,
   "id": "286c6313",
   "metadata": {},
   "outputs": [
    {
     "name": "stdout",
     "output_type": "stream",
     "text": [
      "<class 'pandas.core.frame.DataFrame'>\n",
      "RangeIndex: 1067371 entries, 0 to 1067370\n",
      "Data columns (total 8 columns):\n",
      " #   Column       Non-Null Count    Dtype  \n",
      "---  ------       --------------    -----  \n",
      " 0   Invoice      1067371 non-null  object \n",
      " 1   StockCode    1067371 non-null  object \n",
      " 2   Description  1062989 non-null  object \n",
      " 3   Quantity     1067371 non-null  int64  \n",
      " 4   InvoiceDate  1067371 non-null  object \n",
      " 5   Price        1067371 non-null  float64\n",
      " 6   Customer ID  824364 non-null   float64\n",
      " 7   Country      1067371 non-null  object \n",
      "dtypes: float64(2), int64(1), object(5)\n",
      "memory usage: 65.1+ MB\n"
     ]
    }
   ],
   "source": [
    "# LOOKING FOR OVERALL INFORMATION ABOUT DATA\n",
    "df.info()"
   ]
  },
  {
   "cell_type": "code",
   "execution_count": 4,
   "id": "a904452f",
   "metadata": {},
   "outputs": [
    {
     "data": {
      "text/plain": [
       "(1067371, 8)"
      ]
     },
     "execution_count": 4,
     "metadata": {},
     "output_type": "execute_result"
    }
   ],
   "source": [
    "df.shape"
   ]
  },
  {
   "cell_type": "markdown",
   "id": "a87f217d",
   "metadata": {},
   "source": [
    "This data set has more than 10 lakhs records with 8 variables"
   ]
  },
  {
   "cell_type": "markdown",
   "id": "f91eeb98",
   "metadata": {},
   "source": [
    "# DATA CLEANING"
   ]
  },
  {
   "cell_type": "markdown",
   "id": "6f967682",
   "metadata": {},
   "source": [
    "__DUPLICATE RECORDS__\n",
    "\n"
   ]
  },
  {
   "cell_type": "code",
   "execution_count": 5,
   "id": "605f9a17",
   "metadata": {},
   "outputs": [],
   "source": [
    "# Deleting duplicate records if any\n",
    "df.drop_duplicates(inplace=True)"
   ]
  },
  {
   "cell_type": "code",
   "execution_count": 6,
   "id": "b0a25888",
   "metadata": {},
   "outputs": [
    {
     "data": {
      "text/plain": [
       "(1033036, 8)"
      ]
     },
     "execution_count": 6,
     "metadata": {},
     "output_type": "execute_result"
    }
   ],
   "source": [
    "df.shape"
   ]
  },
  {
   "cell_type": "markdown",
   "id": "70d1736c",
   "metadata": {},
   "source": [
    "Initially there were 1067371 records now there are 1033036 number of records. it means there are 34335 duplicates."
   ]
  },
  {
   "cell_type": "markdown",
   "id": "dd1a7854",
   "metadata": {},
   "source": [
    "__MISSING VALUES__"
   ]
  },
  {
   "cell_type": "code",
   "execution_count": 7,
   "id": "66f3ecb7",
   "metadata": {},
   "outputs": [
    {
     "data": {
      "text/plain": [
       "Invoice             0\n",
       "StockCode           0\n",
       "Description      4275\n",
       "Quantity            0\n",
       "InvoiceDate         0\n",
       "Price               0\n",
       "Customer ID    235151\n",
       "Country             0\n",
       "dtype: int64"
      ]
     },
     "execution_count": 7,
     "metadata": {},
     "output_type": "execute_result"
    }
   ],
   "source": [
    "# Counting the number of null values in each column\n",
    "df.isna().sum()"
   ]
  },
  {
   "cell_type": "markdown",
   "id": "628e1e55",
   "metadata": {},
   "source": [
    "Missing values are present in Customer ID column and Description columns. So let us drop missing rows."
   ]
  },
  {
   "cell_type": "code",
   "execution_count": 8,
   "id": "92d497c2",
   "metadata": {},
   "outputs": [],
   "source": [
    "# Dropping rows with missing cells\n",
    "df.dropna(inplace=True)"
   ]
  },
  {
   "cell_type": "markdown",
   "id": "fb1b6cf6",
   "metadata": {},
   "source": [
    "__DATA TYPE CONVERSION__\n",
    "\n",
    "Dtype of InvoiceDate is not a date type. So, data type has to be changed from object to datetime.\n",
    "converting float Customer ID  to int. Remaining all columns appear to be ok."
   ]
  },
  {
   "cell_type": "code",
   "execution_count": 9,
   "id": "193799dc",
   "metadata": {},
   "outputs": [],
   "source": [
    "# Converting date field to date time data type\n",
    "df[\"InvoiceDate\"]=pd.to_datetime(df[\"InvoiceDate\"])"
   ]
  },
  {
   "cell_type": "code",
   "execution_count": 10,
   "id": "d71790de",
   "metadata": {},
   "outputs": [],
   "source": [
    "# Converting Customer ID field to int type\n",
    "df['Customer ID']=df['Customer ID'].astype('int')"
   ]
  },
  {
   "cell_type": "markdown",
   "id": "fb4a5dd9",
   "metadata": {},
   "source": [
    "__INACCURATE DATA__"
   ]
  },
  {
   "cell_type": "code",
   "execution_count": 11,
   "id": "0c360181",
   "metadata": {},
   "outputs": [
    {
     "data": {
      "text/html": [
       "<div>\n",
       "<style scoped>\n",
       "    .dataframe tbody tr th:only-of-type {\n",
       "        vertical-align: middle;\n",
       "    }\n",
       "\n",
       "    .dataframe tbody tr th {\n",
       "        vertical-align: top;\n",
       "    }\n",
       "\n",
       "    .dataframe thead th {\n",
       "        text-align: right;\n",
       "    }\n",
       "</style>\n",
       "<table border=\"1\" class=\"dataframe\">\n",
       "  <thead>\n",
       "    <tr style=\"text-align: right;\">\n",
       "      <th></th>\n",
       "      <th>Invoice</th>\n",
       "      <th>StockCode</th>\n",
       "      <th>Description</th>\n",
       "      <th>Quantity</th>\n",
       "      <th>InvoiceDate</th>\n",
       "      <th>Price</th>\n",
       "      <th>Customer ID</th>\n",
       "      <th>Country</th>\n",
       "    </tr>\n",
       "  </thead>\n",
       "  <tbody>\n",
       "    <tr>\n",
       "      <th>178</th>\n",
       "      <td>C489449</td>\n",
       "      <td>22087</td>\n",
       "      <td>PAPER BUNTING WHITE LACE</td>\n",
       "      <td>-12</td>\n",
       "      <td>2009-12-01 10:33:00</td>\n",
       "      <td>2.95</td>\n",
       "      <td>16321</td>\n",
       "      <td>Australia</td>\n",
       "    </tr>\n",
       "    <tr>\n",
       "      <th>179</th>\n",
       "      <td>C489449</td>\n",
       "      <td>85206A</td>\n",
       "      <td>CREAM FELT EASTER EGG BASKET</td>\n",
       "      <td>-6</td>\n",
       "      <td>2009-12-01 10:33:00</td>\n",
       "      <td>1.65</td>\n",
       "      <td>16321</td>\n",
       "      <td>Australia</td>\n",
       "    </tr>\n",
       "    <tr>\n",
       "      <th>180</th>\n",
       "      <td>C489449</td>\n",
       "      <td>21895</td>\n",
       "      <td>POTTING SHED SOW 'N' GROW SET</td>\n",
       "      <td>-4</td>\n",
       "      <td>2009-12-01 10:33:00</td>\n",
       "      <td>4.25</td>\n",
       "      <td>16321</td>\n",
       "      <td>Australia</td>\n",
       "    </tr>\n",
       "    <tr>\n",
       "      <th>181</th>\n",
       "      <td>C489449</td>\n",
       "      <td>21896</td>\n",
       "      <td>POTTING SHED TWINE</td>\n",
       "      <td>-6</td>\n",
       "      <td>2009-12-01 10:33:00</td>\n",
       "      <td>2.10</td>\n",
       "      <td>16321</td>\n",
       "      <td>Australia</td>\n",
       "    </tr>\n",
       "    <tr>\n",
       "      <th>182</th>\n",
       "      <td>C489449</td>\n",
       "      <td>22083</td>\n",
       "      <td>PAPER CHAIN KIT RETRO SPOT</td>\n",
       "      <td>-12</td>\n",
       "      <td>2009-12-01 10:33:00</td>\n",
       "      <td>2.95</td>\n",
       "      <td>16321</td>\n",
       "      <td>Australia</td>\n",
       "    </tr>\n",
       "    <tr>\n",
       "      <th>...</th>\n",
       "      <td>...</td>\n",
       "      <td>...</td>\n",
       "      <td>...</td>\n",
       "      <td>...</td>\n",
       "      <td>...</td>\n",
       "      <td>...</td>\n",
       "      <td>...</td>\n",
       "      <td>...</td>\n",
       "    </tr>\n",
       "    <tr>\n",
       "      <th>1065910</th>\n",
       "      <td>C581490</td>\n",
       "      <td>23144</td>\n",
       "      <td>ZINC T-LIGHT HOLDER STARS SMALL</td>\n",
       "      <td>-11</td>\n",
       "      <td>2011-12-09 09:57:00</td>\n",
       "      <td>0.83</td>\n",
       "      <td>14397</td>\n",
       "      <td>United Kingdom</td>\n",
       "    </tr>\n",
       "    <tr>\n",
       "      <th>1067002</th>\n",
       "      <td>C581499</td>\n",
       "      <td>M</td>\n",
       "      <td>Manual</td>\n",
       "      <td>-1</td>\n",
       "      <td>2011-12-09 10:28:00</td>\n",
       "      <td>224.69</td>\n",
       "      <td>15498</td>\n",
       "      <td>United Kingdom</td>\n",
       "    </tr>\n",
       "    <tr>\n",
       "      <th>1067176</th>\n",
       "      <td>C581568</td>\n",
       "      <td>21258</td>\n",
       "      <td>VICTORIAN SEWING BOX LARGE</td>\n",
       "      <td>-5</td>\n",
       "      <td>2011-12-09 11:57:00</td>\n",
       "      <td>10.95</td>\n",
       "      <td>15311</td>\n",
       "      <td>United Kingdom</td>\n",
       "    </tr>\n",
       "    <tr>\n",
       "      <th>1067177</th>\n",
       "      <td>C581569</td>\n",
       "      <td>84978</td>\n",
       "      <td>HANGING HEART JAR T-LIGHT HOLDER</td>\n",
       "      <td>-1</td>\n",
       "      <td>2011-12-09 11:58:00</td>\n",
       "      <td>1.25</td>\n",
       "      <td>17315</td>\n",
       "      <td>United Kingdom</td>\n",
       "    </tr>\n",
       "    <tr>\n",
       "      <th>1067178</th>\n",
       "      <td>C581569</td>\n",
       "      <td>20979</td>\n",
       "      <td>36 PENCILS TUBE RED RETROSPOT</td>\n",
       "      <td>-5</td>\n",
       "      <td>2011-12-09 11:58:00</td>\n",
       "      <td>1.25</td>\n",
       "      <td>17315</td>\n",
       "      <td>United Kingdom</td>\n",
       "    </tr>\n",
       "  </tbody>\n",
       "</table>\n",
       "<p>18390 rows × 8 columns</p>\n",
       "</div>"
      ],
      "text/plain": [
       "         Invoice StockCode                       Description  Quantity  \\\n",
       "178      C489449     22087          PAPER BUNTING WHITE LACE       -12   \n",
       "179      C489449    85206A      CREAM FELT EASTER EGG BASKET        -6   \n",
       "180      C489449     21895     POTTING SHED SOW 'N' GROW SET        -4   \n",
       "181      C489449     21896                POTTING SHED TWINE        -6   \n",
       "182      C489449     22083        PAPER CHAIN KIT RETRO SPOT       -12   \n",
       "...          ...       ...                               ...       ...   \n",
       "1065910  C581490     23144   ZINC T-LIGHT HOLDER STARS SMALL       -11   \n",
       "1067002  C581499         M                            Manual        -1   \n",
       "1067176  C581568     21258        VICTORIAN SEWING BOX LARGE        -5   \n",
       "1067177  C581569     84978  HANGING HEART JAR T-LIGHT HOLDER        -1   \n",
       "1067178  C581569     20979     36 PENCILS TUBE RED RETROSPOT        -5   \n",
       "\n",
       "                InvoiceDate   Price  Customer ID         Country  \n",
       "178     2009-12-01 10:33:00    2.95        16321       Australia  \n",
       "179     2009-12-01 10:33:00    1.65        16321       Australia  \n",
       "180     2009-12-01 10:33:00    4.25        16321       Australia  \n",
       "181     2009-12-01 10:33:00    2.10        16321       Australia  \n",
       "182     2009-12-01 10:33:00    2.95        16321       Australia  \n",
       "...                     ...     ...          ...             ...  \n",
       "1065910 2011-12-09 09:57:00    0.83        14397  United Kingdom  \n",
       "1067002 2011-12-09 10:28:00  224.69        15498  United Kingdom  \n",
       "1067176 2011-12-09 11:57:00   10.95        15311  United Kingdom  \n",
       "1067177 2011-12-09 11:58:00    1.25        17315  United Kingdom  \n",
       "1067178 2011-12-09 11:58:00    1.25        17315  United Kingdom  \n",
       "\n",
       "[18390 rows x 8 columns]"
      ]
     },
     "execution_count": 11,
     "metadata": {},
     "output_type": "execute_result"
    }
   ],
   "source": [
    "# Checking for inaccurate records like negative values in quantity and price\n",
    "df[df[\"Quantity\"]<0]"
   ]
  },
  {
   "cell_type": "markdown",
   "id": "4966cdea",
   "metadata": {},
   "source": [
    "As  quantity can never be negative. I assume they are positive values only which were typed negative by mistake.\n",
    "So, let us convert those into positive"
   ]
  },
  {
   "cell_type": "code",
   "execution_count": 12,
   "id": "4768915d",
   "metadata": {},
   "outputs": [],
   "source": [
    "# Converting column values into absolute values\n",
    "df['Quantity']=df['Quantity'].abs()"
   ]
  },
  {
   "cell_type": "code",
   "execution_count": 13,
   "id": "edf685e0",
   "metadata": {},
   "outputs": [
    {
     "data": {
      "text/html": [
       "<div>\n",
       "<style scoped>\n",
       "    .dataframe tbody tr th:only-of-type {\n",
       "        vertical-align: middle;\n",
       "    }\n",
       "\n",
       "    .dataframe tbody tr th {\n",
       "        vertical-align: top;\n",
       "    }\n",
       "\n",
       "    .dataframe thead th {\n",
       "        text-align: right;\n",
       "    }\n",
       "</style>\n",
       "<table border=\"1\" class=\"dataframe\">\n",
       "  <thead>\n",
       "    <tr style=\"text-align: right;\">\n",
       "      <th></th>\n",
       "      <th>Invoice</th>\n",
       "      <th>StockCode</th>\n",
       "      <th>Description</th>\n",
       "      <th>Quantity</th>\n",
       "      <th>InvoiceDate</th>\n",
       "      <th>Price</th>\n",
       "      <th>Customer ID</th>\n",
       "      <th>Country</th>\n",
       "    </tr>\n",
       "  </thead>\n",
       "  <tbody>\n",
       "  </tbody>\n",
       "</table>\n",
       "</div>"
      ],
      "text/plain": [
       "Empty DataFrame\n",
       "Columns: [Invoice, StockCode, Description, Quantity, InvoiceDate, Price, Customer ID, Country]\n",
       "Index: []"
      ]
     },
     "execution_count": 13,
     "metadata": {},
     "output_type": "execute_result"
    }
   ],
   "source": [
    "# Checking for inaccurate price\n",
    "df[df['Price']<0]"
   ]
  },
  {
   "cell_type": "markdown",
   "id": "d671228a",
   "metadata": {},
   "source": [
    "There are no inaccurate values in Price column."
   ]
  },
  {
   "cell_type": "code",
   "execution_count": 14,
   "id": "4a468243",
   "metadata": {},
   "outputs": [
    {
     "data": {
      "text/html": [
       "<div>\n",
       "<style scoped>\n",
       "    .dataframe tbody tr th:only-of-type {\n",
       "        vertical-align: middle;\n",
       "    }\n",
       "\n",
       "    .dataframe tbody tr th {\n",
       "        vertical-align: top;\n",
       "    }\n",
       "\n",
       "    .dataframe thead th {\n",
       "        text-align: right;\n",
       "    }\n",
       "</style>\n",
       "<table border=\"1\" class=\"dataframe\">\n",
       "  <thead>\n",
       "    <tr style=\"text-align: right;\">\n",
       "      <th></th>\n",
       "      <th>Invoice</th>\n",
       "      <th>StockCode</th>\n",
       "      <th>Description</th>\n",
       "      <th>Quantity</th>\n",
       "      <th>InvoiceDate</th>\n",
       "      <th>Price</th>\n",
       "      <th>Customer ID</th>\n",
       "      <th>Country</th>\n",
       "    </tr>\n",
       "  </thead>\n",
       "  <tbody>\n",
       "    <tr>\n",
       "      <th>0</th>\n",
       "      <td>489434</td>\n",
       "      <td>85048</td>\n",
       "      <td>15CM CHRISTMAS GLASS BALL 20 LIGHTS</td>\n",
       "      <td>12</td>\n",
       "      <td>2009-12-01 07:45:00</td>\n",
       "      <td>6.95</td>\n",
       "      <td>13085</td>\n",
       "      <td>United Kingdom</td>\n",
       "    </tr>\n",
       "    <tr>\n",
       "      <th>1</th>\n",
       "      <td>489434</td>\n",
       "      <td>79323P</td>\n",
       "      <td>PINK CHERRY LIGHTS</td>\n",
       "      <td>12</td>\n",
       "      <td>2009-12-01 07:45:00</td>\n",
       "      <td>6.75</td>\n",
       "      <td>13085</td>\n",
       "      <td>United Kingdom</td>\n",
       "    </tr>\n",
       "    <tr>\n",
       "      <th>2</th>\n",
       "      <td>489434</td>\n",
       "      <td>79323W</td>\n",
       "      <td>WHITE CHERRY LIGHTS</td>\n",
       "      <td>12</td>\n",
       "      <td>2009-12-01 07:45:00</td>\n",
       "      <td>6.75</td>\n",
       "      <td>13085</td>\n",
       "      <td>United Kingdom</td>\n",
       "    </tr>\n",
       "    <tr>\n",
       "      <th>3</th>\n",
       "      <td>489434</td>\n",
       "      <td>22041</td>\n",
       "      <td>RECORD FRAME 7\" SINGLE SIZE</td>\n",
       "      <td>48</td>\n",
       "      <td>2009-12-01 07:45:00</td>\n",
       "      <td>2.10</td>\n",
       "      <td>13085</td>\n",
       "      <td>United Kingdom</td>\n",
       "    </tr>\n",
       "    <tr>\n",
       "      <th>4</th>\n",
       "      <td>489434</td>\n",
       "      <td>21232</td>\n",
       "      <td>STRAWBERRY CERAMIC TRINKET BOX</td>\n",
       "      <td>24</td>\n",
       "      <td>2009-12-01 07:45:00</td>\n",
       "      <td>1.25</td>\n",
       "      <td>13085</td>\n",
       "      <td>United Kingdom</td>\n",
       "    </tr>\n",
       "  </tbody>\n",
       "</table>\n",
       "</div>"
      ],
      "text/plain": [
       "  Invoice StockCode                          Description  Quantity  \\\n",
       "0  489434     85048  15CM CHRISTMAS GLASS BALL 20 LIGHTS        12   \n",
       "1  489434    79323P                   PINK CHERRY LIGHTS        12   \n",
       "2  489434    79323W                  WHITE CHERRY LIGHTS        12   \n",
       "3  489434     22041         RECORD FRAME 7\" SINGLE SIZE         48   \n",
       "4  489434     21232       STRAWBERRY CERAMIC TRINKET BOX        24   \n",
       "\n",
       "          InvoiceDate  Price  Customer ID         Country  \n",
       "0 2009-12-01 07:45:00   6.95        13085  United Kingdom  \n",
       "1 2009-12-01 07:45:00   6.75        13085  United Kingdom  \n",
       "2 2009-12-01 07:45:00   6.75        13085  United Kingdom  \n",
       "3 2009-12-01 07:45:00   2.10        13085  United Kingdom  \n",
       "4 2009-12-01 07:45:00   1.25        13085  United Kingdom  "
      ]
     },
     "execution_count": 14,
     "metadata": {},
     "output_type": "execute_result"
    }
   ],
   "source": [
    "df.head()"
   ]
  },
  {
   "cell_type": "markdown",
   "id": "45533831",
   "metadata": {},
   "source": [
    "# EXPLORATORY DATA ANALYSIS"
   ]
  },
  {
   "cell_type": "code",
   "execution_count": 15,
   "id": "25342ac7",
   "metadata": {},
   "outputs": [
    {
     "data": {
      "text/plain": [
       "Invoice        44876\n",
       "StockCode       4646\n",
       "Description     5299\n",
       "Quantity         443\n",
       "InvoiceDate    41439\n",
       "Price           1022\n",
       "Customer ID     5942\n",
       "Country           41\n",
       "dtype: int64"
      ]
     },
     "execution_count": 15,
     "metadata": {},
     "output_type": "execute_result"
    }
   ],
   "source": [
    "# Checking for unique values in each column\n",
    "df.nunique()"
   ]
  },
  {
   "cell_type": "markdown",
   "id": "fa45fdbd",
   "metadata": {},
   "source": [
    "There are 5942 unique customers from 41 different countries ordering 5299 different products."
   ]
  },
  {
   "cell_type": "markdown",
   "id": "6b019192",
   "metadata": {},
   "source": [
    "1) WHO ARE THE TOP 5 CUSTOMERS IN TERMS OF NUMBER OF ORDERS?"
   ]
  },
  {
   "cell_type": "code",
   "execution_count": 16,
   "id": "236f7456",
   "metadata": {},
   "outputs": [
    {
     "data": {
      "text/html": [
       "<div>\n",
       "<style scoped>\n",
       "    .dataframe tbody tr th:only-of-type {\n",
       "        vertical-align: middle;\n",
       "    }\n",
       "\n",
       "    .dataframe tbody tr th {\n",
       "        vertical-align: top;\n",
       "    }\n",
       "\n",
       "    .dataframe thead th {\n",
       "        text-align: right;\n",
       "    }\n",
       "</style>\n",
       "<table border=\"1\" class=\"dataframe\">\n",
       "  <thead>\n",
       "    <tr style=\"text-align: right;\">\n",
       "      <th></th>\n",
       "      <th>Customer ID</th>\n",
       "      <th>Invoice</th>\n",
       "    </tr>\n",
       "  </thead>\n",
       "  <tbody>\n",
       "    <tr>\n",
       "      <th>0</th>\n",
       "      <td>14911</td>\n",
       "      <td>510</td>\n",
       "    </tr>\n",
       "    <tr>\n",
       "      <th>1</th>\n",
       "      <td>12748</td>\n",
       "      <td>365</td>\n",
       "    </tr>\n",
       "    <tr>\n",
       "      <th>2</th>\n",
       "      <td>17841</td>\n",
       "      <td>289</td>\n",
       "    </tr>\n",
       "    <tr>\n",
       "      <th>3</th>\n",
       "      <td>15311</td>\n",
       "      <td>270</td>\n",
       "    </tr>\n",
       "    <tr>\n",
       "      <th>4</th>\n",
       "      <td>14606</td>\n",
       "      <td>259</td>\n",
       "    </tr>\n",
       "  </tbody>\n",
       "</table>\n",
       "</div>"
      ],
      "text/plain": [
       "   Customer ID  Invoice\n",
       "0        14911      510\n",
       "1        12748      365\n",
       "2        17841      289\n",
       "3        15311      270\n",
       "4        14606      259"
      ]
     },
     "execution_count": 16,
     "metadata": {},
     "output_type": "execute_result"
    }
   ],
   "source": [
    "top_cust=df.groupby('Customer ID')[['Invoice']].nunique().sort_values(by='Invoice',ascending=False).reset_index()\n",
    "top_cust.head()"
   ]
  },
  {
   "cell_type": "markdown",
   "id": "c014ba88",
   "metadata": {},
   "source": [
    "2) WHAT ARE THE TOP 5 ENGAGING COUNTRIES?"
   ]
  },
  {
   "cell_type": "code",
   "execution_count": 17,
   "id": "c32ce384",
   "metadata": {},
   "outputs": [
    {
     "data": {
      "text/plain": [
       "Country\n",
       "United Kingdom    5410\n",
       "Germany            107\n",
       "France              95\n",
       "Spain               41\n",
       "Belgium             29\n",
       "Name: Customer ID, dtype: int64"
      ]
     },
     "execution_count": 17,
     "metadata": {},
     "output_type": "execute_result"
    }
   ],
   "source": [
    "top_coun=df.groupby('Country')['Customer ID'].nunique().sort_values(ascending=False)\n",
    "top_coun.head()"
   ]
  },
  {
   "cell_type": "markdown",
   "id": "aede3f3f",
   "metadata": {},
   "source": [
    "3) WHAT ARE THE TOP 5 MOST ORDERING PRODUCTS?"
   ]
  },
  {
   "cell_type": "code",
   "execution_count": 18,
   "id": "12565281",
   "metadata": {},
   "outputs": [
    {
     "data": {
      "text/plain": [
       "Description\n",
       "WHITE HANGING HEART T-LIGHT HOLDER    5021\n",
       "REGENCY CAKESTAND 3 TIER              3659\n",
       "JUMBO BAG RED RETROSPOT               2683\n",
       "ASSORTED COLOUR BIRD ORNAMENT         2669\n",
       "PARTY BUNTING                         2100\n",
       "Name: Invoice, dtype: int64"
      ]
     },
     "execution_count": 18,
     "metadata": {},
     "output_type": "execute_result"
    }
   ],
   "source": [
    "top_prod=df.groupby('Description')['Invoice'].nunique().sort_values(ascending=False)\n",
    "top_prod.head()"
   ]
  },
  {
   "cell_type": "markdown",
   "id": "7f728a64",
   "metadata": {},
   "source": [
    "4) HOW ARE ORDERS CHANGING YEARLY?"
   ]
  },
  {
   "cell_type": "code",
   "execution_count": 19,
   "id": "1f2c31bc",
   "metadata": {},
   "outputs": [],
   "source": [
    "# Creating new variable Year\n",
    "df['Year']=df['InvoiceDate'].dt.year"
   ]
  },
  {
   "cell_type": "code",
   "execution_count": 20,
   "id": "7a319cad",
   "metadata": {},
   "outputs": [
    {
     "data": {
      "text/html": [
       "<div>\n",
       "<style scoped>\n",
       "    .dataframe tbody tr th:only-of-type {\n",
       "        vertical-align: middle;\n",
       "    }\n",
       "\n",
       "    .dataframe tbody tr th {\n",
       "        vertical-align: top;\n",
       "    }\n",
       "\n",
       "    .dataframe thead th {\n",
       "        text-align: right;\n",
       "    }\n",
       "</style>\n",
       "<table border=\"1\" class=\"dataframe\">\n",
       "  <thead>\n",
       "    <tr style=\"text-align: right;\">\n",
       "      <th></th>\n",
       "      <th>Year</th>\n",
       "      <th>Invoice</th>\n",
       "    </tr>\n",
       "  </thead>\n",
       "  <tbody>\n",
       "    <tr>\n",
       "      <th>0</th>\n",
       "      <td>2010</td>\n",
       "      <td>22494</td>\n",
       "    </tr>\n",
       "    <tr>\n",
       "      <th>1</th>\n",
       "      <td>2011</td>\n",
       "      <td>20482</td>\n",
       "    </tr>\n",
       "    <tr>\n",
       "      <th>2</th>\n",
       "      <td>2009</td>\n",
       "      <td>1900</td>\n",
       "    </tr>\n",
       "  </tbody>\n",
       "</table>\n",
       "</div>"
      ],
      "text/plain": [
       "   Year  Invoice\n",
       "0  2010    22494\n",
       "1  2011    20482\n",
       "2  2009     1900"
      ]
     },
     "execution_count": 20,
     "metadata": {},
     "output_type": "execute_result"
    }
   ],
   "source": [
    "year_orders=df.groupby('Year')[['Invoice']].nunique().sort_values(by='Invoice',ascending=False)\n",
    "year_orders=year_orders.reset_index()\n",
    "year_orders"
   ]
  },
  {
   "cell_type": "code",
   "execution_count": 21,
   "id": "b745691b",
   "metadata": {},
   "outputs": [
    {
     "data": {
      "text/plain": [
       "<AxesSubplot:xlabel='Year', ylabel='Invoice'>"
      ]
     },
     "execution_count": 21,
     "metadata": {},
     "output_type": "execute_result"
    },
    {
     "data": {
      "image/png": "[encoded data removed]",
      "text/plain": [
       "<Figure size 432x288 with 1 Axes>"
      ]
     },
     "metadata": {
      "needs_background": "light"
     },
     "output_type": "display_data"
    }
   ],
   "source": [
    "sns.barplot(data=year_orders,x='Year',y='Invoice',estimator=np.sum)"
   ]
  },
  {
   "cell_type": "markdown",
   "id": "e529d490",
   "metadata": {},
   "source": [
    "from 2009 to 2010 number of orders increased and then decreased in 2011."
   ]
  },
  {
   "cell_type": "code",
   "execution_count": 22,
   "id": "bf84b187",
   "metadata": {},
   "outputs": [
    {
     "data": {
      "image/png": "[encoded data removed]",
      "text/plain": [
       "<Figure size 576x360 with 1 Axes>"
      ]
     },
     "metadata": {
      "needs_background": "light"
     },
     "output_type": "display_data"
    }
   ],
   "source": [
    "# Showing how orders are varying monthly in each year\n",
    "df['Month']=df['InvoiceDate'].dt.month\n",
    "ym=df.groupby(['Year','Month'])['Invoice'].nunique()\n",
    "plt.figure(figsize=(8,5))\n",
    "ym.plot(kind='line',color='g')\n",
    "plt.show()"
   ]
  },
  {
   "cell_type": "markdown",
   "id": "291dcafa",
   "metadata": {},
   "source": [
    "5)HOW ARE THE TOTAL SALES CHANGING YEARLY?"
   ]
  },
  {
   "cell_type": "code",
   "execution_count": 23,
   "id": "a1440dc8",
   "metadata": {},
   "outputs": [
    {
     "data": {
      "text/plain": [
       "18459617.248"
      ]
     },
     "execution_count": 23,
     "metadata": {},
     "output_type": "execute_result"
    }
   ],
   "source": [
    "# Creating new column sales\n",
    "df['Sales']=df['Quantity']*df['Price']\n",
    "df['Sales'].sum()"
   ]
  },
  {
   "cell_type": "code",
   "execution_count": 24,
   "id": "7ec0127c",
   "metadata": {},
   "outputs": [
    {
     "data": {
      "text/plain": [
       "Year\n",
       "2009     706882.920\n",
       "2010    8845290.564\n",
       "2011    8907443.764\n",
       "Name: Sales, dtype: float64"
      ]
     },
     "execution_count": 24,
     "metadata": {},
     "output_type": "execute_result"
    }
   ],
   "source": [
    "yearly_sales=df.groupby('Year')['Sales'].sum()\n",
    "yearly_sales"
   ]
  },
  {
   "cell_type": "code",
   "execution_count": 25,
   "id": "14018f31",
   "metadata": {},
   "outputs": [
    {
     "data": {
      "text/plain": [
       "<AxesSubplot:xlabel='Year', ylabel='Sales'>"
      ]
     },
     "execution_count": 25,
     "metadata": {},
     "output_type": "execute_result"
    },
    {
     "data": {
      "image/png": "[encoded data removed]",
      "text/plain": [
       "<Figure size 432x288 with 1 Axes>"
      ]
     },
     "metadata": {
      "needs_background": "light"
     },
     "output_type": "display_data"
    }
   ],
   "source": [
    "sns.barplot(data=df,x='Year',y='Sales',estimator=np.sum)"
   ]
  },
  {
   "cell_type": "markdown",
   "id": "6c66c77e",
   "metadata": {},
   "source": [
    "It can be seen that though number of orders decreased in 2010, overall sales are high. \n",
    "This is due to purchase of costly products"
   ]
  },
  {
   "cell_type": "code",
   "execution_count": 26,
   "id": "9f5f0117",
   "metadata": {},
   "outputs": [
    {
     "data": {
      "image/png": "[encoded data removed]",
      "text/plain": [
       "<Figure size 432x288 with 1 Axes>"
      ]
     },
     "metadata": {
      "needs_background": "light"
     },
     "output_type": "display_data"
    }
   ],
   "source": [
    "a=df.groupby('Year')[['Quantity','Sales']].aggregate({'Quantity':'sum','Sales':'sum'})\n",
    "a.plot(kind='bar')\n",
    "plt.show()"
   ]
  },
  {
   "cell_type": "markdown",
   "id": "20a24617",
   "metadata": {},
   "source": [
    "From the above plot it can be seen that from 2010 to 2011 quantity of items purchased has decreased but sales are increased.\n",
    "this is due to more number of orders with high price."
   ]
  },
  {
   "cell_type": "markdown",
   "id": "5d12c4cd",
   "metadata": {},
   "source": [
    "5) HOW MANY ORDERS GOT CANCELLED?"
   ]
  },
  {
   "cell_type": "code",
   "execution_count": 27,
   "id": "2f6f6cac",
   "metadata": {},
   "outputs": [
    {
     "data": {
      "text/plain": [
       "18390"
      ]
     },
     "execution_count": 27,
     "metadata": {},
     "output_type": "execute_result"
    }
   ],
   "source": [
    "# C in invoice indicates that they are cancelled\n",
    "cancelled_orders=df[df['Invoice'].str.startswith('C')]\n",
    "cancelled_orders.shape[0]"
   ]
  },
  {
   "cell_type": "markdown",
   "id": "5a501aaa",
   "metadata": {},
   "source": [
    "from above understanding, there are 18390 rows. previously there were 18390 rows where qunatity was negative.\n",
    "so it means that cancelled orders were represented with negative quantity"
   ]
  },
  {
   "cell_type": "code",
   "execution_count": 28,
   "id": "5b63324e",
   "metadata": {},
   "outputs": [
    {
     "data": {
      "text/plain": [
       "7901"
      ]
     },
     "execution_count": 28,
     "metadata": {},
     "output_type": "execute_result"
    }
   ],
   "source": [
    "cancelled_orders['Invoice'].nunique()"
   ]
  },
  {
   "cell_type": "markdown",
   "id": "ab2b6eef",
   "metadata": {},
   "source": [
    "There are 7901 cancelled transactions"
   ]
  },
  {
   "cell_type": "code",
   "execution_count": 29,
   "id": "23ec824c",
   "metadata": {},
   "outputs": [
    {
     "data": {
      "text/plain": [
       "17374804.268"
      ]
     },
     "execution_count": 29,
     "metadata": {},
     "output_type": "execute_result"
    }
   ],
   "source": [
    "# Calculating gross total sales\n",
    "df['Sales'].sum()-cancelled_orders['Sales'].sum()"
   ]
  },
  {
   "cell_type": "markdown",
   "id": "dbc0a09a",
   "metadata": {},
   "source": [
    "6) WHICH PRODCUCTS GOT MORE CANCELLATIONS?"
   ]
  },
  {
   "cell_type": "code",
   "execution_count": 30,
   "id": "c8ab7c70",
   "metadata": {},
   "outputs": [
    {
     "data": {
      "text/plain": [
       "Manual                            397\n",
       "REGENCY CAKESTAND 3 TIER          341\n",
       "BAKING SET 9 PIECE RETROSPOT      208\n",
       "STRAWBERRY CERAMIC TRINKET BOX    181\n",
       "POSTAGE                           180\n",
       "Name: Description, dtype: int64"
      ]
     },
     "execution_count": 30,
     "metadata": {},
     "output_type": "execute_result"
    }
   ],
   "source": [
    "cancelled_orders['Description'].value_counts().head()"
   ]
  },
  {
   "cell_type": "markdown",
   "id": "cde6d12a",
   "metadata": {},
   "source": [
    "Manual, REGENCY CAKESTAND 3 TIER, BAKING SET 9 PIECE RETROSPOT are the top 3 cancelled products. \n",
    "What could be the reason for the cancellation? Quality issues? No much information is provided for further analysis"
   ]
  },
  {
   "cell_type": "markdown",
   "id": "e8d1ff47",
   "metadata": {},
   "source": [
    "# CUSTOMER SEGMENTATION (RFM ANALYSIS)"
   ]
  },
  {
   "cell_type": "markdown",
   "id": "c67e2bc1",
   "metadata": {},
   "source": [
    "__RFM ANALYSIS__ \n",
    "\n",
    "RFM Analysis is a customer segmentation marketing technique that uses past purchase behavior to divide customers into clusters.\n",
    "RFM helps divide customers into various categories or clusters to identify customers,perform marketing campaigns\n",
    " and also for future personalization services.\n",
    "\n",
    "RECENCY (R): Days since last purchase\n",
    "\n",
    "FREQUENCY (F): Total number of purchases\n",
    "\n",
    "MONETARY VALUE (M): Total money this customer spent."
   ]
  },
  {
   "cell_type": "markdown",
   "id": "6c6ce9e9",
   "metadata": {},
   "source": [
    "__RECENCY__ \n",
    "How recently the customer has purchased?(how many days it has been since his last purchase)\n",
    "It means, we have to find the customer's recent purchase date and calculate\n",
    "number of days between the highest date available in the data set and customer's recent date."
   ]
  },
  {
   "cell_type": "code",
   "execution_count": 31,
   "id": "f7531641",
   "metadata": {},
   "outputs": [
    {
     "data": {
      "text/html": [
       "<div>\n",
       "<style scoped>\n",
       "    .dataframe tbody tr th:only-of-type {\n",
       "        vertical-align: middle;\n",
       "    }\n",
       "\n",
       "    .dataframe tbody tr th {\n",
       "        vertical-align: top;\n",
       "    }\n",
       "\n",
       "    .dataframe thead th {\n",
       "        text-align: right;\n",
       "    }\n",
       "</style>\n",
       "<table border=\"1\" class=\"dataframe\">\n",
       "  <thead>\n",
       "    <tr style=\"text-align: right;\">\n",
       "      <th></th>\n",
       "      <th>Invoice</th>\n",
       "      <th>StockCode</th>\n",
       "      <th>Description</th>\n",
       "      <th>Quantity</th>\n",
       "      <th>InvoiceDate</th>\n",
       "      <th>Price</th>\n",
       "      <th>Customer ID</th>\n",
       "      <th>Country</th>\n",
       "      <th>Year</th>\n",
       "      <th>Month</th>\n",
       "      <th>Sales</th>\n",
       "      <th>Date</th>\n",
       "    </tr>\n",
       "  </thead>\n",
       "  <tbody>\n",
       "    <tr>\n",
       "      <th>0</th>\n",
       "      <td>489434</td>\n",
       "      <td>85048</td>\n",
       "      <td>15CM CHRISTMAS GLASS BALL 20 LIGHTS</td>\n",
       "      <td>12</td>\n",
       "      <td>2009-12-01 07:45:00</td>\n",
       "      <td>6.95</td>\n",
       "      <td>13085</td>\n",
       "      <td>United Kingdom</td>\n",
       "      <td>2009</td>\n",
       "      <td>12</td>\n",
       "      <td>83.4</td>\n",
       "      <td>2009-12-01</td>\n",
       "    </tr>\n",
       "    <tr>\n",
       "      <th>1</th>\n",
       "      <td>489434</td>\n",
       "      <td>79323P</td>\n",
       "      <td>PINK CHERRY LIGHTS</td>\n",
       "      <td>12</td>\n",
       "      <td>2009-12-01 07:45:00</td>\n",
       "      <td>6.75</td>\n",
       "      <td>13085</td>\n",
       "      <td>United Kingdom</td>\n",
       "      <td>2009</td>\n",
       "      <td>12</td>\n",
       "      <td>81.0</td>\n",
       "      <td>2009-12-01</td>\n",
       "    </tr>\n",
       "    <tr>\n",
       "      <th>2</th>\n",
       "      <td>489434</td>\n",
       "      <td>79323W</td>\n",
       "      <td>WHITE CHERRY LIGHTS</td>\n",
       "      <td>12</td>\n",
       "      <td>2009-12-01 07:45:00</td>\n",
       "      <td>6.75</td>\n",
       "      <td>13085</td>\n",
       "      <td>United Kingdom</td>\n",
       "      <td>2009</td>\n",
       "      <td>12</td>\n",
       "      <td>81.0</td>\n",
       "      <td>2009-12-01</td>\n",
       "    </tr>\n",
       "    <tr>\n",
       "      <th>3</th>\n",
       "      <td>489434</td>\n",
       "      <td>22041</td>\n",
       "      <td>RECORD FRAME 7\" SINGLE SIZE</td>\n",
       "      <td>48</td>\n",
       "      <td>2009-12-01 07:45:00</td>\n",
       "      <td>2.10</td>\n",
       "      <td>13085</td>\n",
       "      <td>United Kingdom</td>\n",
       "      <td>2009</td>\n",
       "      <td>12</td>\n",
       "      <td>100.8</td>\n",
       "      <td>2009-12-01</td>\n",
       "    </tr>\n",
       "    <tr>\n",
       "      <th>4</th>\n",
       "      <td>489434</td>\n",
       "      <td>21232</td>\n",
       "      <td>STRAWBERRY CERAMIC TRINKET BOX</td>\n",
       "      <td>24</td>\n",
       "      <td>2009-12-01 07:45:00</td>\n",
       "      <td>1.25</td>\n",
       "      <td>13085</td>\n",
       "      <td>United Kingdom</td>\n",
       "      <td>2009</td>\n",
       "      <td>12</td>\n",
       "      <td>30.0</td>\n",
       "      <td>2009-12-01</td>\n",
       "    </tr>\n",
       "  </tbody>\n",
       "</table>\n",
       "</div>"
      ],
      "text/plain": [
       "  Invoice StockCode                          Description  Quantity  \\\n",
       "0  489434     85048  15CM CHRISTMAS GLASS BALL 20 LIGHTS        12   \n",
       "1  489434    79323P                   PINK CHERRY LIGHTS        12   \n",
       "2  489434    79323W                  WHITE CHERRY LIGHTS        12   \n",
       "3  489434     22041         RECORD FRAME 7\" SINGLE SIZE         48   \n",
       "4  489434     21232       STRAWBERRY CERAMIC TRINKET BOX        24   \n",
       "\n",
       "          InvoiceDate  Price  Customer ID         Country  Year  Month  Sales  \\\n",
       "0 2009-12-01 07:45:00   6.95        13085  United Kingdom  2009     12   83.4   \n",
       "1 2009-12-01 07:45:00   6.75        13085  United Kingdom  2009     12   81.0   \n",
       "2 2009-12-01 07:45:00   6.75        13085  United Kingdom  2009     12   81.0   \n",
       "3 2009-12-01 07:45:00   2.10        13085  United Kingdom  2009     12  100.8   \n",
       "4 2009-12-01 07:45:00   1.25        13085  United Kingdom  2009     12   30.0   \n",
       "\n",
       "         Date  \n",
       "0  2009-12-01  \n",
       "1  2009-12-01  \n",
       "2  2009-12-01  \n",
       "3  2009-12-01  \n",
       "4  2009-12-01  "
      ]
     },
     "execution_count": 31,
     "metadata": {},
     "output_type": "execute_result"
    }
   ],
   "source": [
    "# Creating separate date column as we do not require timestamp\n",
    "df['Date']=df['InvoiceDate'].dt.date\n",
    "df.head()"
   ]
  },
  {
   "cell_type": "code",
   "execution_count": 32,
   "id": "aa0dc1ec",
   "metadata": {},
   "outputs": [
    {
     "data": {
      "text/plain": [
       "datetime.date(2011, 12, 9)"
      ]
     },
     "execution_count": 32,
     "metadata": {},
     "output_type": "execute_result"
    }
   ],
   "source": [
    "# Most recent date in data set\n",
    "max_date=df[\"Date\"].max()\n",
    "max_date"
   ]
  },
  {
   "cell_type": "code",
   "execution_count": 33,
   "id": "607a3791",
   "metadata": {},
   "outputs": [
    {
     "data": {
      "text/html": [
       "<div>\n",
       "<style scoped>\n",
       "    .dataframe tbody tr th:only-of-type {\n",
       "        vertical-align: middle;\n",
       "    }\n",
       "\n",
       "    .dataframe tbody tr th {\n",
       "        vertical-align: top;\n",
       "    }\n",
       "\n",
       "    .dataframe thead th {\n",
       "        text-align: right;\n",
       "    }\n",
       "</style>\n",
       "<table border=\"1\" class=\"dataframe\">\n",
       "  <thead>\n",
       "    <tr style=\"text-align: right;\">\n",
       "      <th></th>\n",
       "      <th>Date</th>\n",
       "      <th>Recency</th>\n",
       "    </tr>\n",
       "    <tr>\n",
       "      <th>Customer ID</th>\n",
       "      <th></th>\n",
       "      <th></th>\n",
       "    </tr>\n",
       "  </thead>\n",
       "  <tbody>\n",
       "    <tr>\n",
       "      <th>12346</th>\n",
       "      <td>2011-01-18</td>\n",
       "      <td>325 days</td>\n",
       "    </tr>\n",
       "    <tr>\n",
       "      <th>12347</th>\n",
       "      <td>2011-12-07</td>\n",
       "      <td>2 days</td>\n",
       "    </tr>\n",
       "    <tr>\n",
       "      <th>12348</th>\n",
       "      <td>2011-09-25</td>\n",
       "      <td>75 days</td>\n",
       "    </tr>\n",
       "    <tr>\n",
       "      <th>12349</th>\n",
       "      <td>2011-11-21</td>\n",
       "      <td>18 days</td>\n",
       "    </tr>\n",
       "    <tr>\n",
       "      <th>12350</th>\n",
       "      <td>2011-02-02</td>\n",
       "      <td>310 days</td>\n",
       "    </tr>\n",
       "  </tbody>\n",
       "</table>\n",
       "</div>"
      ],
      "text/plain": [
       "                   Date  Recency\n",
       "Customer ID                     \n",
       "12346        2011-01-18 325 days\n",
       "12347        2011-12-07   2 days\n",
       "12348        2011-09-25  75 days\n",
       "12349        2011-11-21  18 days\n",
       "12350        2011-02-02 310 days"
      ]
     },
     "execution_count": 33,
     "metadata": {},
     "output_type": "execute_result"
    }
   ],
   "source": [
    "#creating a new data frame with unique customer id and recency\n",
    "rf=df.groupby('Customer ID')[[\"Date\"]].max()\n",
    "rf['Recency']=max_date-rf['Date']\n",
    "rf.head()"
   ]
  },
  {
   "cell_type": "code",
   "execution_count": 34,
   "id": "386ad3d1",
   "metadata": {},
   "outputs": [
    {
     "data": {
      "text/html": [
       "<div>\n",
       "<style scoped>\n",
       "    .dataframe tbody tr th:only-of-type {\n",
       "        vertical-align: middle;\n",
       "    }\n",
       "\n",
       "    .dataframe tbody tr th {\n",
       "        vertical-align: top;\n",
       "    }\n",
       "\n",
       "    .dataframe thead th {\n",
       "        text-align: right;\n",
       "    }\n",
       "</style>\n",
       "<table border=\"1\" class=\"dataframe\">\n",
       "  <thead>\n",
       "    <tr style=\"text-align: right;\">\n",
       "      <th></th>\n",
       "      <th>Customer ID</th>\n",
       "      <th>Recency</th>\n",
       "    </tr>\n",
       "  </thead>\n",
       "  <tbody>\n",
       "    <tr>\n",
       "      <th>0</th>\n",
       "      <td>12346</td>\n",
       "      <td>325 days</td>\n",
       "    </tr>\n",
       "    <tr>\n",
       "      <th>1</th>\n",
       "      <td>12347</td>\n",
       "      <td>2 days</td>\n",
       "    </tr>\n",
       "    <tr>\n",
       "      <th>2</th>\n",
       "      <td>12348</td>\n",
       "      <td>75 days</td>\n",
       "    </tr>\n",
       "    <tr>\n",
       "      <th>3</th>\n",
       "      <td>12349</td>\n",
       "      <td>18 days</td>\n",
       "    </tr>\n",
       "    <tr>\n",
       "      <th>4</th>\n",
       "      <td>12350</td>\n",
       "      <td>310 days</td>\n",
       "    </tr>\n",
       "  </tbody>\n",
       "</table>\n",
       "</div>"
      ],
      "text/plain": [
       "   Customer ID  Recency\n",
       "0        12346 325 days\n",
       "1        12347   2 days\n",
       "2        12348  75 days\n",
       "3        12349  18 days\n",
       "4        12350 310 days"
      ]
     },
     "execution_count": 34,
     "metadata": {},
     "output_type": "execute_result"
    }
   ],
   "source": [
    "#As we donot require Date column, let us drop it.\n",
    "rf.drop(\"Date\",inplace=True,axis=1)\n",
    "rf.reset_index(inplace=True)\n",
    "rf.head()"
   ]
  },
  {
   "cell_type": "markdown",
   "id": "61b7e7ec",
   "metadata": {},
   "source": [
    "days word is not required and make calculations messy so let us remove those"
   ]
  },
  {
   "cell_type": "code",
   "execution_count": 35,
   "id": "6830e81e",
   "metadata": {},
   "outputs": [],
   "source": [
    "# dt.days will return only number\n",
    "rf['Recency']=rf['Recency'].dt.days"
   ]
  },
  {
   "cell_type": "code",
   "execution_count": 36,
   "id": "fdc5f7dd",
   "metadata": {},
   "outputs": [
    {
     "data": {
      "text/html": [
       "<div>\n",
       "<style scoped>\n",
       "    .dataframe tbody tr th:only-of-type {\n",
       "        vertical-align: middle;\n",
       "    }\n",
       "\n",
       "    .dataframe tbody tr th {\n",
       "        vertical-align: top;\n",
       "    }\n",
       "\n",
       "    .dataframe thead th {\n",
       "        text-align: right;\n",
       "    }\n",
       "</style>\n",
       "<table border=\"1\" class=\"dataframe\">\n",
       "  <thead>\n",
       "    <tr style=\"text-align: right;\">\n",
       "      <th></th>\n",
       "      <th>Customer ID</th>\n",
       "      <th>Recency</th>\n",
       "    </tr>\n",
       "  </thead>\n",
       "  <tbody>\n",
       "    <tr>\n",
       "      <th>0</th>\n",
       "      <td>12346</td>\n",
       "      <td>325</td>\n",
       "    </tr>\n",
       "    <tr>\n",
       "      <th>1</th>\n",
       "      <td>12347</td>\n",
       "      <td>2</td>\n",
       "    </tr>\n",
       "    <tr>\n",
       "      <th>2</th>\n",
       "      <td>12348</td>\n",
       "      <td>75</td>\n",
       "    </tr>\n",
       "    <tr>\n",
       "      <th>3</th>\n",
       "      <td>12349</td>\n",
       "      <td>18</td>\n",
       "    </tr>\n",
       "    <tr>\n",
       "      <th>4</th>\n",
       "      <td>12350</td>\n",
       "      <td>310</td>\n",
       "    </tr>\n",
       "  </tbody>\n",
       "</table>\n",
       "</div>"
      ],
      "text/plain": [
       "   Customer ID  Recency\n",
       "0        12346      325\n",
       "1        12347        2\n",
       "2        12348       75\n",
       "3        12349       18\n",
       "4        12350      310"
      ]
     },
     "execution_count": 36,
     "metadata": {},
     "output_type": "execute_result"
    }
   ],
   "source": [
    "rf.head()"
   ]
  },
  {
   "cell_type": "markdown",
   "id": "f1bac608",
   "metadata": {},
   "source": [
    "__FREQUENCY__"
   ]
  },
  {
   "cell_type": "markdown",
   "id": "c1d69358",
   "metadata": {},
   "source": [
    "Frequency helps us to know how many times a customer purchased from store. To do that we need to check how many \n",
    "unique invoices are registered by the same customer."
   ]
  },
  {
   "cell_type": "code",
   "execution_count": 37,
   "id": "0f9b1d16",
   "metadata": {},
   "outputs": [
    {
     "data": {
      "text/html": [
       "<div>\n",
       "<style scoped>\n",
       "    .dataframe tbody tr th:only-of-type {\n",
       "        vertical-align: middle;\n",
       "    }\n",
       "\n",
       "    .dataframe tbody tr th {\n",
       "        vertical-align: top;\n",
       "    }\n",
       "\n",
       "    .dataframe thead th {\n",
       "        text-align: right;\n",
       "    }\n",
       "</style>\n",
       "<table border=\"1\" class=\"dataframe\">\n",
       "  <thead>\n",
       "    <tr style=\"text-align: right;\">\n",
       "      <th></th>\n",
       "      <th>Customer ID</th>\n",
       "      <th>Frequency</th>\n",
       "    </tr>\n",
       "  </thead>\n",
       "  <tbody>\n",
       "    <tr>\n",
       "      <th>0</th>\n",
       "      <td>12346</td>\n",
       "      <td>17</td>\n",
       "    </tr>\n",
       "    <tr>\n",
       "      <th>1</th>\n",
       "      <td>12347</td>\n",
       "      <td>8</td>\n",
       "    </tr>\n",
       "    <tr>\n",
       "      <th>2</th>\n",
       "      <td>12348</td>\n",
       "      <td>5</td>\n",
       "    </tr>\n",
       "    <tr>\n",
       "      <th>3</th>\n",
       "      <td>12349</td>\n",
       "      <td>5</td>\n",
       "    </tr>\n",
       "    <tr>\n",
       "      <th>4</th>\n",
       "      <td>12350</td>\n",
       "      <td>1</td>\n",
       "    </tr>\n",
       "  </tbody>\n",
       "</table>\n",
       "</div>"
      ],
      "text/plain": [
       "   Customer ID  Frequency\n",
       "0        12346         17\n",
       "1        12347          8\n",
       "2        12348          5\n",
       "3        12349          5\n",
       "4        12350          1"
      ]
     },
     "execution_count": 37,
     "metadata": {},
     "output_type": "execute_result"
    }
   ],
   "source": [
    "ff=df.groupby('Customer ID')[['Invoice']].nunique()\n",
    "ff.columns=[\"Frequency\"]\n",
    "ff.reset_index(inplace=True)\n",
    "ff.head()"
   ]
  },
  {
   "cell_type": "markdown",
   "id": "94d2ece4",
   "metadata": {},
   "source": [
    "__MONETARY__"
   ]
  },
  {
   "cell_type": "markdown",
   "id": "c7e26d4b",
   "metadata": {},
   "source": [
    "Monetary means how much total amount is spent by individual customer on all his orders."
   ]
  },
  {
   "cell_type": "code",
   "execution_count": 38,
   "id": "3d925d00",
   "metadata": {},
   "outputs": [
    {
     "data": {
      "text/html": [
       "<div>\n",
       "<style scoped>\n",
       "    .dataframe tbody tr th:only-of-type {\n",
       "        vertical-align: middle;\n",
       "    }\n",
       "\n",
       "    .dataframe tbody tr th {\n",
       "        vertical-align: top;\n",
       "    }\n",
       "\n",
       "    .dataframe thead th {\n",
       "        text-align: right;\n",
       "    }\n",
       "</style>\n",
       "<table border=\"1\" class=\"dataframe\">\n",
       "  <thead>\n",
       "    <tr style=\"text-align: right;\">\n",
       "      <th></th>\n",
       "      <th>Customer ID</th>\n",
       "      <th>Monetary</th>\n",
       "    </tr>\n",
       "  </thead>\n",
       "  <tbody>\n",
       "    <tr>\n",
       "      <th>0</th>\n",
       "      <td>12346</td>\n",
       "      <td>155164.66</td>\n",
       "    </tr>\n",
       "    <tr>\n",
       "      <th>1</th>\n",
       "      <td>12347</td>\n",
       "      <td>4921.53</td>\n",
       "    </tr>\n",
       "    <tr>\n",
       "      <th>2</th>\n",
       "      <td>12348</td>\n",
       "      <td>2019.40</td>\n",
       "    </tr>\n",
       "    <tr>\n",
       "      <th>3</th>\n",
       "      <td>12349</td>\n",
       "      <td>4452.84</td>\n",
       "    </tr>\n",
       "    <tr>\n",
       "      <th>4</th>\n",
       "      <td>12350</td>\n",
       "      <td>334.40</td>\n",
       "    </tr>\n",
       "  </tbody>\n",
       "</table>\n",
       "</div>"
      ],
      "text/plain": [
       "   Customer ID   Monetary\n",
       "0        12346  155164.66\n",
       "1        12347    4921.53\n",
       "2        12348    2019.40\n",
       "3        12349    4452.84\n",
       "4        12350     334.40"
      ]
     },
     "execution_count": 38,
     "metadata": {},
     "output_type": "execute_result"
    }
   ],
   "source": [
    "mf=df.groupby(\"Customer ID\")[[\"Sales\"]].sum()\n",
    "mf.columns=[\"Monetary\"]\n",
    "mf.reset_index(inplace=True)\n",
    "mf.head()"
   ]
  },
  {
   "cell_type": "markdown",
   "id": "bfe82fb6",
   "metadata": {},
   "source": [
    "We got 3 different tables rf, ff, mf. let us merge all data frames"
   ]
  },
  {
   "cell_type": "code",
   "execution_count": 39,
   "id": "9505f97d",
   "metadata": {},
   "outputs": [
    {
     "data": {
      "text/html": [
       "<div>\n",
       "<style scoped>\n",
       "    .dataframe tbody tr th:only-of-type {\n",
       "        vertical-align: middle;\n",
       "    }\n",
       "\n",
       "    .dataframe tbody tr th {\n",
       "        vertical-align: top;\n",
       "    }\n",
       "\n",
       "    .dataframe thead th {\n",
       "        text-align: right;\n",
       "    }\n",
       "</style>\n",
       "<table border=\"1\" class=\"dataframe\">\n",
       "  <thead>\n",
       "    <tr style=\"text-align: right;\">\n",
       "      <th></th>\n",
       "      <th>Customer ID</th>\n",
       "      <th>Recency</th>\n",
       "      <th>Frequency</th>\n",
       "      <th>Monetary</th>\n",
       "    </tr>\n",
       "  </thead>\n",
       "  <tbody>\n",
       "    <tr>\n",
       "      <th>0</th>\n",
       "      <td>12346</td>\n",
       "      <td>325</td>\n",
       "      <td>17</td>\n",
       "      <td>155164.66</td>\n",
       "    </tr>\n",
       "    <tr>\n",
       "      <th>1</th>\n",
       "      <td>12347</td>\n",
       "      <td>2</td>\n",
       "      <td>8</td>\n",
       "      <td>4921.53</td>\n",
       "    </tr>\n",
       "    <tr>\n",
       "      <th>2</th>\n",
       "      <td>12348</td>\n",
       "      <td>75</td>\n",
       "      <td>5</td>\n",
       "      <td>2019.40</td>\n",
       "    </tr>\n",
       "    <tr>\n",
       "      <th>3</th>\n",
       "      <td>12349</td>\n",
       "      <td>18</td>\n",
       "      <td>5</td>\n",
       "      <td>4452.84</td>\n",
       "    </tr>\n",
       "    <tr>\n",
       "      <th>4</th>\n",
       "      <td>12350</td>\n",
       "      <td>310</td>\n",
       "      <td>1</td>\n",
       "      <td>334.40</td>\n",
       "    </tr>\n",
       "  </tbody>\n",
       "</table>\n",
       "</div>"
      ],
      "text/plain": [
       "   Customer ID  Recency  Frequency   Monetary\n",
       "0        12346      325         17  155164.66\n",
       "1        12347        2          8    4921.53\n",
       "2        12348       75          5    2019.40\n",
       "3        12349       18          5    4452.84\n",
       "4        12350      310          1     334.40"
      ]
     },
     "execution_count": 39,
     "metadata": {},
     "output_type": "execute_result"
    }
   ],
   "source": [
    "# First merging recency data frame with frequency data frame, then merging monetary data frame to get final data frame\n",
    "rfm_df=rf.merge(ff,on=\"Customer ID\")\n",
    "rfm_df=rfm_df.merge(mf,on=\"Customer ID\")\n",
    "rfm_df.head()"
   ]
  },
  {
   "cell_type": "code",
   "execution_count": 40,
   "id": "ad4f9103",
   "metadata": {},
   "outputs": [
    {
     "name": "stdout",
     "output_type": "stream",
     "text": [
      "<class 'pandas.core.frame.DataFrame'>\n",
      "Int64Index: 5942 entries, 0 to 5941\n",
      "Data columns (total 4 columns):\n",
      " #   Column       Non-Null Count  Dtype  \n",
      "---  ------       --------------  -----  \n",
      " 0   Customer ID  5942 non-null   int64  \n",
      " 1   Recency      5942 non-null   int64  \n",
      " 2   Frequency    5942 non-null   int64  \n",
      " 3   Monetary     5942 non-null   float64\n",
      "dtypes: float64(1), int64(3)\n",
      "memory usage: 232.1 KB\n"
     ]
    }
   ],
   "source": [
    "rfm_df.info()"
   ]
  },
  {
   "cell_type": "markdown",
   "id": "5e045483",
   "metadata": {},
   "source": [
    "In our finalized RFM (Recency, Frequency, Monetary) table, the RFM variables represent distinct measures that need to be transformed into scores for better customer segmentation. \n",
    "(As each of these measures captures a different aspect of customer behavior they cannot be directly used)"
   ]
  },
  {
   "cell_type": "code",
   "execution_count": 41,
   "id": "8c105f29",
   "metadata": {},
   "outputs": [],
   "source": [
    "# Calculating [least,Q2,mean,Q3,high] for binning.\n",
    "mr=rfm_df['Recency'].min()\n",
    "q1r=rfm_df['Recency'].quantile(0.25)\n",
    "midr=rfm_df['Recency'].quantile(0.50)\n",
    "q3r=rfm_df['Recency'].quantile(0.75)\n",
    "hr=rfm_df['Recency'].max()"
   ]
  },
  {
   "cell_type": "code",
   "execution_count": 42,
   "id": "a43a24de",
   "metadata": {},
   "outputs": [],
   "source": [
    "Rlimits=[-1,mr,q1r,midr,q3r,hr]\n",
    "R_score=[5,4,3,2,1]"
   ]
  },
  {
   "cell_type": "markdown",
   "id": "b7eb74af",
   "metadata": {},
   "source": [
    "-1 to least gets 5 (highest) \n",
    "least to Q1(25 the percentile): gets high score 4\n",
    "    ( because less number of days difference indicates that customer is very recent)\n",
    "    \n",
    "Q1 to mid: gets score 3(second highest recent customers)\n",
    "\n",
    "mid to Q3: gets score 2(second least recent customers)\n",
    "Q3 to highest: gets score 1(least recent customers)"
   ]
  },
  {
   "cell_type": "code",
   "execution_count": 43,
   "id": "564d990c",
   "metadata": {},
   "outputs": [
    {
     "data": {
      "text/html": [
       "<div>\n",
       "<style scoped>\n",
       "    .dataframe tbody tr th:only-of-type {\n",
       "        vertical-align: middle;\n",
       "    }\n",
       "\n",
       "    .dataframe tbody tr th {\n",
       "        vertical-align: top;\n",
       "    }\n",
       "\n",
       "    .dataframe thead th {\n",
       "        text-align: right;\n",
       "    }\n",
       "</style>\n",
       "<table border=\"1\" class=\"dataframe\">\n",
       "  <thead>\n",
       "    <tr style=\"text-align: right;\">\n",
       "      <th></th>\n",
       "      <th>Customer ID</th>\n",
       "      <th>Recency</th>\n",
       "      <th>Frequency</th>\n",
       "      <th>Monetary</th>\n",
       "    </tr>\n",
       "  </thead>\n",
       "  <tbody>\n",
       "    <tr>\n",
       "      <th>0</th>\n",
       "      <td>12346</td>\n",
       "      <td>2</td>\n",
       "      <td>17</td>\n",
       "      <td>155164.66</td>\n",
       "    </tr>\n",
       "    <tr>\n",
       "      <th>1</th>\n",
       "      <td>12347</td>\n",
       "      <td>4</td>\n",
       "      <td>8</td>\n",
       "      <td>4921.53</td>\n",
       "    </tr>\n",
       "    <tr>\n",
       "      <th>2</th>\n",
       "      <td>12348</td>\n",
       "      <td>3</td>\n",
       "      <td>5</td>\n",
       "      <td>2019.40</td>\n",
       "    </tr>\n",
       "    <tr>\n",
       "      <th>3</th>\n",
       "      <td>12349</td>\n",
       "      <td>4</td>\n",
       "      <td>5</td>\n",
       "      <td>4452.84</td>\n",
       "    </tr>\n",
       "    <tr>\n",
       "      <th>4</th>\n",
       "      <td>12350</td>\n",
       "      <td>2</td>\n",
       "      <td>1</td>\n",
       "      <td>334.40</td>\n",
       "    </tr>\n",
       "  </tbody>\n",
       "</table>\n",
       "</div>"
      ],
      "text/plain": [
       "   Customer ID Recency  Frequency   Monetary\n",
       "0        12346       2         17  155164.66\n",
       "1        12347       4          8    4921.53\n",
       "2        12348       3          5    2019.40\n",
       "3        12349       4          5    4452.84\n",
       "4        12350       2          1     334.40"
      ]
     },
     "execution_count": 43,
     "metadata": {},
     "output_type": "execute_result"
    }
   ],
   "source": [
    "# assigning scores to recency values\n",
    "rfm_df['Recency']=pd.cut(rfm_df['Recency'],bins=Rlimits,labels=R_score)\n",
    "rfm_df.head()"
   ]
  },
  {
   "cell_type": "code",
   "execution_count": 44,
   "id": "10935054",
   "metadata": {},
   "outputs": [
    {
     "data": {
      "text/plain": [
       "Customer ID    0\n",
       "Recency        0\n",
       "Frequency      0\n",
       "Monetary       0\n",
       "dtype: int64"
      ]
     },
     "execution_count": 44,
     "metadata": {},
     "output_type": "execute_result"
    }
   ],
   "source": [
    "rfm_df.isna().sum()"
   ]
  },
  {
   "cell_type": "code",
   "execution_count": 45,
   "id": "54131112",
   "metadata": {},
   "outputs": [],
   "source": [
    "# Calculating [least,Q2,mean,Q3,high] for binning.\n",
    "mf=rfm_df['Frequency'].min()\n",
    "q1f=rfm_df['Frequency'].quantile(0.25)\n",
    "midf=rfm_df['Frequency'].quantile(0.50)\n",
    "q3f=rfm_df['Frequency'].quantile(0.75)\n",
    "hf=rfm_df['Frequency'].max()"
   ]
  },
  {
   "cell_type": "code",
   "execution_count": 46,
   "id": "bcd79f3b",
   "metadata": {},
   "outputs": [],
   "source": [
    "Flimits=[-1,mf,q1f,midf,q3f,hf]\n",
    "F_score=[1,2,3,4,5]"
   ]
  },
  {
   "cell_type": "code",
   "execution_count": 47,
   "id": "07075ba5",
   "metadata": {},
   "outputs": [
    {
     "data": {
      "text/html": [
       "<div>\n",
       "<style scoped>\n",
       "    .dataframe tbody tr th:only-of-type {\n",
       "        vertical-align: middle;\n",
       "    }\n",
       "\n",
       "    .dataframe tbody tr th {\n",
       "        vertical-align: top;\n",
       "    }\n",
       "\n",
       "    .dataframe thead th {\n",
       "        text-align: right;\n",
       "    }\n",
       "</style>\n",
       "<table border=\"1\" class=\"dataframe\">\n",
       "  <thead>\n",
       "    <tr style=\"text-align: right;\">\n",
       "      <th></th>\n",
       "      <th>Customer ID</th>\n",
       "      <th>Recency</th>\n",
       "      <th>Frequency</th>\n",
       "      <th>Monetary</th>\n",
       "    </tr>\n",
       "  </thead>\n",
       "  <tbody>\n",
       "    <tr>\n",
       "      <th>0</th>\n",
       "      <td>12346</td>\n",
       "      <td>2</td>\n",
       "      <td>5</td>\n",
       "      <td>155164.66</td>\n",
       "    </tr>\n",
       "    <tr>\n",
       "      <th>1</th>\n",
       "      <td>12347</td>\n",
       "      <td>4</td>\n",
       "      <td>4</td>\n",
       "      <td>4921.53</td>\n",
       "    </tr>\n",
       "    <tr>\n",
       "      <th>2</th>\n",
       "      <td>12348</td>\n",
       "      <td>3</td>\n",
       "      <td>4</td>\n",
       "      <td>2019.40</td>\n",
       "    </tr>\n",
       "    <tr>\n",
       "      <th>3</th>\n",
       "      <td>12349</td>\n",
       "      <td>4</td>\n",
       "      <td>4</td>\n",
       "      <td>4452.84</td>\n",
       "    </tr>\n",
       "    <tr>\n",
       "      <th>4</th>\n",
       "      <td>12350</td>\n",
       "      <td>2</td>\n",
       "      <td>1</td>\n",
       "      <td>334.40</td>\n",
       "    </tr>\n",
       "  </tbody>\n",
       "</table>\n",
       "</div>"
      ],
      "text/plain": [
       "   Customer ID Recency Frequency   Monetary\n",
       "0        12346       2         5  155164.66\n",
       "1        12347       4         4    4921.53\n",
       "2        12348       3         4    2019.40\n",
       "3        12349       4         4    4452.84\n",
       "4        12350       2         1     334.40"
      ]
     },
     "execution_count": 47,
     "metadata": {},
     "output_type": "execute_result"
    }
   ],
   "source": [
    "# assigning scores to frequency values\n",
    "rfm_df['Frequency']=pd.cut(rfm_df['Frequency'],bins=Flimits,labels=F_score)\n",
    "rfm_df.head()"
   ]
  },
  {
   "cell_type": "code",
   "execution_count": 48,
   "id": "c9189bdb",
   "metadata": {},
   "outputs": [],
   "source": [
    "# Calculating [least,Q2,mean,Q3,high] for binning.\n",
    "mm=rfm_df['Monetary'].min()\n",
    "q1m=rfm_df['Monetary'].quantile(0.25)\n",
    "midm=rfm_df['Monetary'].quantile(0.50)\n",
    "q3m=rfm_df['Monetary'].quantile(0.75)\n",
    "hm=rfm_df['Monetary'].max()"
   ]
  },
  {
   "cell_type": "code",
   "execution_count": 49,
   "id": "6f751482",
   "metadata": {},
   "outputs": [],
   "source": [
    "Mlimits=[-1,mm,q1m,midm,q3m,hm]\n",
    "M_score=[1,2,3,4,5]"
   ]
  },
  {
   "cell_type": "code",
   "execution_count": 50,
   "id": "fc8a943d",
   "metadata": {},
   "outputs": [
    {
     "data": {
      "text/html": [
       "<div>\n",
       "<style scoped>\n",
       "    .dataframe tbody tr th:only-of-type {\n",
       "        vertical-align: middle;\n",
       "    }\n",
       "\n",
       "    .dataframe tbody tr th {\n",
       "        vertical-align: top;\n",
       "    }\n",
       "\n",
       "    .dataframe thead th {\n",
       "        text-align: right;\n",
       "    }\n",
       "</style>\n",
       "<table border=\"1\" class=\"dataframe\">\n",
       "  <thead>\n",
       "    <tr style=\"text-align: right;\">\n",
       "      <th></th>\n",
       "      <th>Customer ID</th>\n",
       "      <th>Recency</th>\n",
       "      <th>Frequency</th>\n",
       "      <th>Monetary</th>\n",
       "    </tr>\n",
       "  </thead>\n",
       "  <tbody>\n",
       "    <tr>\n",
       "      <th>0</th>\n",
       "      <td>12346</td>\n",
       "      <td>2</td>\n",
       "      <td>5</td>\n",
       "      <td>5</td>\n",
       "    </tr>\n",
       "    <tr>\n",
       "      <th>1</th>\n",
       "      <td>12347</td>\n",
       "      <td>4</td>\n",
       "      <td>4</td>\n",
       "      <td>5</td>\n",
       "    </tr>\n",
       "    <tr>\n",
       "      <th>2</th>\n",
       "      <td>12348</td>\n",
       "      <td>3</td>\n",
       "      <td>4</td>\n",
       "      <td>4</td>\n",
       "    </tr>\n",
       "    <tr>\n",
       "      <th>3</th>\n",
       "      <td>12349</td>\n",
       "      <td>4</td>\n",
       "      <td>4</td>\n",
       "      <td>5</td>\n",
       "    </tr>\n",
       "    <tr>\n",
       "      <th>4</th>\n",
       "      <td>12350</td>\n",
       "      <td>2</td>\n",
       "      <td>1</td>\n",
       "      <td>2</td>\n",
       "    </tr>\n",
       "  </tbody>\n",
       "</table>\n",
       "</div>"
      ],
      "text/plain": [
       "   Customer ID Recency Frequency Monetary\n",
       "0        12346       2         5        5\n",
       "1        12347       4         4        5\n",
       "2        12348       3         4        4\n",
       "3        12349       4         4        5\n",
       "4        12350       2         1        2"
      ]
     },
     "execution_count": 50,
     "metadata": {},
     "output_type": "execute_result"
    }
   ],
   "source": [
    "# assigning scores to monetary values\n",
    "rfm_df['Monetary']=pd.cut(rfm_df['Monetary'],bins=Mlimits,labels=M_score)\n",
    "rfm_df.head()"
   ]
  },
  {
   "cell_type": "markdown",
   "id": "14e99830",
   "metadata": {},
   "source": [
    "-1 is given( you can give any value which doesnt lie in data set) because the least value in the bin is exclsuive\n",
    "to make the least value inclusive another value is considered."
   ]
  },
  {
   "cell_type": "code",
   "execution_count": 51,
   "id": "7243a139",
   "metadata": {},
   "outputs": [],
   "source": [
    "# Calculating RFM score"
   ]
  },
  {
   "cell_type": "code",
   "execution_count": 52,
   "id": "082b1829",
   "metadata": {},
   "outputs": [],
   "source": [
    "# Converting dtype to string\n",
    "rfm_df['Recency']=rfm_df['Recency'].astype('str')\n",
    "rfm_df['Frequency']=rfm_df['Frequency'].astype('str')\n",
    "rfm_df['Monetary']=rfm_df['Monetary'].astype('str')"
   ]
  },
  {
   "cell_type": "code",
   "execution_count": 53,
   "id": "76690688",
   "metadata": {},
   "outputs": [
    {
     "data": {
      "text/html": [
       "<div>\n",
       "<style scoped>\n",
       "    .dataframe tbody tr th:only-of-type {\n",
       "        vertical-align: middle;\n",
       "    }\n",
       "\n",
       "    .dataframe tbody tr th {\n",
       "        vertical-align: top;\n",
       "    }\n",
       "\n",
       "    .dataframe thead th {\n",
       "        text-align: right;\n",
       "    }\n",
       "</style>\n",
       "<table border=\"1\" class=\"dataframe\">\n",
       "  <thead>\n",
       "    <tr style=\"text-align: right;\">\n",
       "      <th></th>\n",
       "      <th>Customer ID</th>\n",
       "      <th>Recency</th>\n",
       "      <th>Frequency</th>\n",
       "      <th>Monetary</th>\n",
       "      <th>RFM_score</th>\n",
       "    </tr>\n",
       "  </thead>\n",
       "  <tbody>\n",
       "    <tr>\n",
       "      <th>0</th>\n",
       "      <td>12346</td>\n",
       "      <td>2</td>\n",
       "      <td>5</td>\n",
       "      <td>5</td>\n",
       "      <td>255</td>\n",
       "    </tr>\n",
       "    <tr>\n",
       "      <th>1</th>\n",
       "      <td>12347</td>\n",
       "      <td>4</td>\n",
       "      <td>4</td>\n",
       "      <td>5</td>\n",
       "      <td>445</td>\n",
       "    </tr>\n",
       "    <tr>\n",
       "      <th>2</th>\n",
       "      <td>12348</td>\n",
       "      <td>3</td>\n",
       "      <td>4</td>\n",
       "      <td>4</td>\n",
       "      <td>344</td>\n",
       "    </tr>\n",
       "    <tr>\n",
       "      <th>3</th>\n",
       "      <td>12349</td>\n",
       "      <td>4</td>\n",
       "      <td>4</td>\n",
       "      <td>5</td>\n",
       "      <td>445</td>\n",
       "    </tr>\n",
       "    <tr>\n",
       "      <th>4</th>\n",
       "      <td>12350</td>\n",
       "      <td>2</td>\n",
       "      <td>1</td>\n",
       "      <td>2</td>\n",
       "      <td>212</td>\n",
       "    </tr>\n",
       "  </tbody>\n",
       "</table>\n",
       "</div>"
      ],
      "text/plain": [
       "   Customer ID Recency Frequency Monetary RFM_score\n",
       "0        12346       2         5        5       255\n",
       "1        12347       4         4        5       445\n",
       "2        12348       3         4        4       344\n",
       "3        12349       4         4        5       445\n",
       "4        12350       2         1        2       212"
      ]
     },
     "execution_count": 53,
     "metadata": {},
     "output_type": "execute_result"
    }
   ],
   "source": [
    "# creating new column RFM_score for final clustering\n",
    "rfm_df['RFM_score']=rfm_df['Recency']+rfm_df['Frequency']+rfm_df['Monetary']\n",
    "rfm_df.head()"
   ]
  },
  {
   "cell_type": "code",
   "execution_count": 54,
   "id": "8e2027ec",
   "metadata": {},
   "outputs": [],
   "source": [
    "#Creating a temporary integer type rfm_score column for calculating quantiles\n",
    "rfm_df['RFM']=rfm_df['RFM_score'].astype('int')"
   ]
  },
  {
   "cell_type": "code",
   "execution_count": 55,
   "id": "4be21bd6",
   "metadata": {},
   "outputs": [],
   "source": [
    "# Calculating [least,Q2,mean,Q3,high] for binning.\n",
    "least=rfm_df['RFM'].min()\n",
    "q1=rfm_df['RFM'].quantile(0.25)\n",
    "q2=rfm_df['RFM'].quantile(0.50)\n",
    "q3=rfm_df['RFM'].quantile(0.75)\n",
    "highest=rfm_df['RFM'].max()"
   ]
  },
  {
   "cell_type": "markdown",
   "id": "870d1470",
   "metadata": {},
   "source": [
    "Clustering them into 5 categories: \n",
    "    Top values customers as Platinum Customers, \n",
    "    second top as gold, \n",
    "    third top as silver, \n",
    "    last but one as raising stars, \n",
    "    least as fading flames it means they hive high rate of churning."
   ]
  },
  {
   "cell_type": "code",
   "execution_count": 56,
   "id": "9d0e147d",
   "metadata": {},
   "outputs": [],
   "source": [
    "limits=[-1,least,q1,q2,q3,highest]\n",
    "cluster=[\"Fading Flames\",\"Raising Stars\",\"Silver Customers\",\"Gold Customers\",\"Platinum Customers\"]"
   ]
  },
  {
   "cell_type": "code",
   "execution_count": 57,
   "id": "345ad52e",
   "metadata": {},
   "outputs": [
    {
     "data": {
      "text/html": [
       "<div>\n",
       "<style scoped>\n",
       "    .dataframe tbody tr th:only-of-type {\n",
       "        vertical-align: middle;\n",
       "    }\n",
       "\n",
       "    .dataframe tbody tr th {\n",
       "        vertical-align: top;\n",
       "    }\n",
       "\n",
       "    .dataframe thead th {\n",
       "        text-align: right;\n",
       "    }\n",
       "</style>\n",
       "<table border=\"1\" class=\"dataframe\">\n",
       "  <thead>\n",
       "    <tr style=\"text-align: right;\">\n",
       "      <th></th>\n",
       "      <th>Customer ID</th>\n",
       "      <th>Recency</th>\n",
       "      <th>Frequency</th>\n",
       "      <th>Monetary</th>\n",
       "      <th>RFM_score</th>\n",
       "      <th>RFM</th>\n",
       "    </tr>\n",
       "  </thead>\n",
       "  <tbody>\n",
       "    <tr>\n",
       "      <th>0</th>\n",
       "      <td>12346</td>\n",
       "      <td>2</td>\n",
       "      <td>5</td>\n",
       "      <td>5</td>\n",
       "      <td>255</td>\n",
       "      <td>Silver Customers</td>\n",
       "    </tr>\n",
       "    <tr>\n",
       "      <th>1</th>\n",
       "      <td>12347</td>\n",
       "      <td>4</td>\n",
       "      <td>4</td>\n",
       "      <td>5</td>\n",
       "      <td>445</td>\n",
       "      <td>Platinum Customers</td>\n",
       "    </tr>\n",
       "    <tr>\n",
       "      <th>2</th>\n",
       "      <td>12348</td>\n",
       "      <td>3</td>\n",
       "      <td>4</td>\n",
       "      <td>4</td>\n",
       "      <td>344</td>\n",
       "      <td>Gold Customers</td>\n",
       "    </tr>\n",
       "    <tr>\n",
       "      <th>3</th>\n",
       "      <td>12349</td>\n",
       "      <td>4</td>\n",
       "      <td>4</td>\n",
       "      <td>5</td>\n",
       "      <td>445</td>\n",
       "      <td>Platinum Customers</td>\n",
       "    </tr>\n",
       "    <tr>\n",
       "      <th>4</th>\n",
       "      <td>12350</td>\n",
       "      <td>2</td>\n",
       "      <td>1</td>\n",
       "      <td>2</td>\n",
       "      <td>212</td>\n",
       "      <td>Raising Stars</td>\n",
       "    </tr>\n",
       "  </tbody>\n",
       "</table>\n",
       "</div>"
      ],
      "text/plain": [
       "   Customer ID Recency Frequency Monetary RFM_score                 RFM\n",
       "0        12346       2         5        5       255    Silver Customers\n",
       "1        12347       4         4        5       445  Platinum Customers\n",
       "2        12348       3         4        4       344      Gold Customers\n",
       "3        12349       4         4        5       445  Platinum Customers\n",
       "4        12350       2         1        2       212       Raising Stars"
      ]
     },
     "execution_count": 57,
     "metadata": {},
     "output_type": "execute_result"
    }
   ],
   "source": [
    "# assigning scores to monetary values\n",
    "rfm_df['RFM']=pd.cut(rfm_df['RFM'],bins=limits,labels=cluster)\n",
    "rfm_df.head()"
   ]
  },
  {
   "cell_type": "code",
   "execution_count": 58,
   "id": "a711c00a",
   "metadata": {},
   "outputs": [
    {
     "data": {
      "text/html": [
       "<div>\n",
       "<style scoped>\n",
       "    .dataframe tbody tr th:only-of-type {\n",
       "        vertical-align: middle;\n",
       "    }\n",
       "\n",
       "    .dataframe tbody tr th {\n",
       "        vertical-align: top;\n",
       "    }\n",
       "\n",
       "    .dataframe thead th {\n",
       "        text-align: right;\n",
       "    }\n",
       "</style>\n",
       "<table border=\"1\" class=\"dataframe\">\n",
       "  <thead>\n",
       "    <tr style=\"text-align: right;\">\n",
       "      <th></th>\n",
       "      <th>Customer ID</th>\n",
       "      <th>RFM</th>\n",
       "    </tr>\n",
       "  </thead>\n",
       "  <tbody>\n",
       "    <tr>\n",
       "      <th>0</th>\n",
       "      <td>12346</td>\n",
       "      <td>Silver Customers</td>\n",
       "    </tr>\n",
       "    <tr>\n",
       "      <th>1</th>\n",
       "      <td>12347</td>\n",
       "      <td>Platinum Customers</td>\n",
       "    </tr>\n",
       "    <tr>\n",
       "      <th>2</th>\n",
       "      <td>12348</td>\n",
       "      <td>Gold Customers</td>\n",
       "    </tr>\n",
       "    <tr>\n",
       "      <th>3</th>\n",
       "      <td>12349</td>\n",
       "      <td>Platinum Customers</td>\n",
       "    </tr>\n",
       "    <tr>\n",
       "      <th>4</th>\n",
       "      <td>12350</td>\n",
       "      <td>Raising Stars</td>\n",
       "    </tr>\n",
       "  </tbody>\n",
       "</table>\n",
       "</div>"
      ],
      "text/plain": [
       "   Customer ID                 RFM\n",
       "0        12346    Silver Customers\n",
       "1        12347  Platinum Customers\n",
       "2        12348      Gold Customers\n",
       "3        12349  Platinum Customers\n",
       "4        12350       Raising Stars"
      ]
     },
     "execution_count": 58,
     "metadata": {},
     "output_type": "execute_result"
    }
   ],
   "source": [
    "#  let us drop all columns except RFM as they are of no use now\n",
    "rfm_df.drop(columns=['Recency','Frequency','Monetary','RFM_score'],inplace=True,axis=1)\n",
    "rfm_df.head()"
   ]
  },
  {
   "cell_type": "code",
   "execution_count": 59,
   "id": "2f9a51f5",
   "metadata": {},
   "outputs": [],
   "source": [
    "# Changing the column names \n",
    "rfm_df.columns=['Customer ID','Segments']"
   ]
  },
  {
   "cell_type": "code",
   "execution_count": 60,
   "id": "44fead03",
   "metadata": {},
   "outputs": [
    {
     "data": {
      "text/html": [
       "<div>\n",
       "<style scoped>\n",
       "    .dataframe tbody tr th:only-of-type {\n",
       "        vertical-align: middle;\n",
       "    }\n",
       "\n",
       "    .dataframe tbody tr th {\n",
       "        vertical-align: top;\n",
       "    }\n",
       "\n",
       "    .dataframe thead th {\n",
       "        text-align: right;\n",
       "    }\n",
       "</style>\n",
       "<table border=\"1\" class=\"dataframe\">\n",
       "  <thead>\n",
       "    <tr style=\"text-align: right;\">\n",
       "      <th></th>\n",
       "      <th>Customer ID</th>\n",
       "      <th>Segments</th>\n",
       "    </tr>\n",
       "  </thead>\n",
       "  <tbody>\n",
       "    <tr>\n",
       "      <th>0</th>\n",
       "      <td>12346</td>\n",
       "      <td>Silver Customers</td>\n",
       "    </tr>\n",
       "    <tr>\n",
       "      <th>1</th>\n",
       "      <td>12347</td>\n",
       "      <td>Platinum Customers</td>\n",
       "    </tr>\n",
       "    <tr>\n",
       "      <th>2</th>\n",
       "      <td>12348</td>\n",
       "      <td>Gold Customers</td>\n",
       "    </tr>\n",
       "    <tr>\n",
       "      <th>3</th>\n",
       "      <td>12349</td>\n",
       "      <td>Platinum Customers</td>\n",
       "    </tr>\n",
       "    <tr>\n",
       "      <th>4</th>\n",
       "      <td>12350</td>\n",
       "      <td>Raising Stars</td>\n",
       "    </tr>\n",
       "    <tr>\n",
       "      <th>...</th>\n",
       "      <td>...</td>\n",
       "      <td>...</td>\n",
       "    </tr>\n",
       "    <tr>\n",
       "      <th>5937</th>\n",
       "      <td>18283</td>\n",
       "      <td>Platinum Customers</td>\n",
       "    </tr>\n",
       "    <tr>\n",
       "      <th>5938</th>\n",
       "      <td>18284</td>\n",
       "      <td>Raising Stars</td>\n",
       "    </tr>\n",
       "    <tr>\n",
       "      <th>5939</th>\n",
       "      <td>18285</td>\n",
       "      <td>Raising Stars</td>\n",
       "    </tr>\n",
       "    <tr>\n",
       "      <th>5940</th>\n",
       "      <td>18286</td>\n",
       "      <td>Raising Stars</td>\n",
       "    </tr>\n",
       "    <tr>\n",
       "      <th>5941</th>\n",
       "      <td>18287</td>\n",
       "      <td>Gold Customers</td>\n",
       "    </tr>\n",
       "  </tbody>\n",
       "</table>\n",
       "<p>5942 rows × 2 columns</p>\n",
       "</div>"
      ],
      "text/plain": [
       "      Customer ID            Segments\n",
       "0           12346    Silver Customers\n",
       "1           12347  Platinum Customers\n",
       "2           12348      Gold Customers\n",
       "3           12349  Platinum Customers\n",
       "4           12350       Raising Stars\n",
       "...           ...                 ...\n",
       "5937        18283  Platinum Customers\n",
       "5938        18284       Raising Stars\n",
       "5939        18285       Raising Stars\n",
       "5940        18286       Raising Stars\n",
       "5941        18287      Gold Customers\n",
       "\n",
       "[5942 rows x 2 columns]"
      ]
     },
     "execution_count": 60,
     "metadata": {},
     "output_type": "execute_result"
    }
   ],
   "source": [
    "rfm_df"
   ]
  },
  {
   "cell_type": "markdown",
   "id": "32dc2c05",
   "metadata": {},
   "source": [
    "__ANALYSIS ON RFM SEGMENTS DATA FRAME__"
   ]
  },
  {
   "cell_type": "markdown",
   "id": "24b1775b",
   "metadata": {},
   "source": [
    " WHAT IS THE DISTRIBUTION OF SEGMENTS?"
   ]
  },
  {
   "cell_type": "code",
   "execution_count": 61,
   "id": "eddee769",
   "metadata": {},
   "outputs": [
    {
     "data": {
      "text/html": [
       "<div>\n",
       "<style scoped>\n",
       "    .dataframe tbody tr th:only-of-type {\n",
       "        vertical-align: middle;\n",
       "    }\n",
       "\n",
       "    .dataframe tbody tr th {\n",
       "        vertical-align: top;\n",
       "    }\n",
       "\n",
       "    .dataframe thead th {\n",
       "        text-align: right;\n",
       "    }\n",
       "</style>\n",
       "<table border=\"1\" class=\"dataframe\">\n",
       "  <thead>\n",
       "    <tr style=\"text-align: right;\">\n",
       "      <th></th>\n",
       "      <th>Customer ID</th>\n",
       "      <th>Segments</th>\n",
       "    </tr>\n",
       "  </thead>\n",
       "  <tbody>\n",
       "    <tr>\n",
       "      <th>0</th>\n",
       "      <td>12346</td>\n",
       "      <td>Silver Customers</td>\n",
       "    </tr>\n",
       "    <tr>\n",
       "      <th>1</th>\n",
       "      <td>12347</td>\n",
       "      <td>Platinum Customers</td>\n",
       "    </tr>\n",
       "    <tr>\n",
       "      <th>2</th>\n",
       "      <td>12348</td>\n",
       "      <td>Gold Customers</td>\n",
       "    </tr>\n",
       "    <tr>\n",
       "      <th>3</th>\n",
       "      <td>12349</td>\n",
       "      <td>Platinum Customers</td>\n",
       "    </tr>\n",
       "    <tr>\n",
       "      <th>4</th>\n",
       "      <td>12350</td>\n",
       "      <td>Raising Stars</td>\n",
       "    </tr>\n",
       "  </tbody>\n",
       "</table>\n",
       "</div>"
      ],
      "text/plain": [
       "   Customer ID            Segments\n",
       "0        12346    Silver Customers\n",
       "1        12347  Platinum Customers\n",
       "2        12348      Gold Customers\n",
       "3        12349  Platinum Customers\n",
       "4        12350       Raising Stars"
      ]
     },
     "execution_count": 61,
     "metadata": {},
     "output_type": "execute_result"
    }
   ],
   "source": [
    "# Let us make a copy of rfm table\n",
    "data=rfm_df.copy(deep=True)\n",
    "data.head()"
   ]
  },
  {
   "cell_type": "code",
   "execution_count": 62,
   "id": "bb968187",
   "metadata": {},
   "outputs": [
    {
     "data": {
      "text/plain": [
       "Raising Stars         1737\n",
       "Gold Customers        1539\n",
       "Platinum Customers    1432\n",
       "Silver Customers      1232\n",
       "Fading Flames            2\n",
       "Name: Segments, dtype: int64"
      ]
     },
     "execution_count": 62,
     "metadata": {},
     "output_type": "execute_result"
    }
   ],
   "source": [
    "data['Segments'].value_counts()"
   ]
  },
  {
   "cell_type": "code",
   "execution_count": 63,
   "id": "c62f351e",
   "metadata": {},
   "outputs": [
    {
     "data": {
      "image/png": "[encoded data removed]",
      "text/plain": [
       "<Figure size 432x288 with 1 Axes>"
      ]
     },
     "metadata": {
      "needs_background": "light"
     },
     "output_type": "display_data"
    }
   ],
   "source": [
    "count_seg=data.groupby('Segments')[['Customer ID']].nunique().sort_values(by='Customer ID',ascending=False)\n",
    "count_seg.plot(kind=\"bar\",color='r')\n",
    "plt.show()\n"
   ]
  },
  {
   "cell_type": "code",
   "execution_count": 64,
   "id": "478d2ecd",
   "metadata": {},
   "outputs": [
    {
     "data": {
      "text/html": [
       "<div>\n",
       "<style scoped>\n",
       "    .dataframe tbody tr th:only-of-type {\n",
       "        vertical-align: middle;\n",
       "    }\n",
       "\n",
       "    .dataframe tbody tr th {\n",
       "        vertical-align: top;\n",
       "    }\n",
       "\n",
       "    .dataframe thead th {\n",
       "        text-align: right;\n",
       "    }\n",
       "</style>\n",
       "<table border=\"1\" class=\"dataframe\">\n",
       "  <thead>\n",
       "    <tr style=\"text-align: right;\">\n",
       "      <th></th>\n",
       "      <th>Invoice</th>\n",
       "      <th>StockCode</th>\n",
       "      <th>Description</th>\n",
       "      <th>Quantity</th>\n",
       "      <th>InvoiceDate</th>\n",
       "      <th>Price</th>\n",
       "      <th>Customer ID</th>\n",
       "      <th>Country</th>\n",
       "      <th>Year</th>\n",
       "      <th>Month</th>\n",
       "      <th>Sales</th>\n",
       "      <th>Date</th>\n",
       "      <th>Segments</th>\n",
       "    </tr>\n",
       "  </thead>\n",
       "  <tbody>\n",
       "    <tr>\n",
       "      <th>0</th>\n",
       "      <td>489434</td>\n",
       "      <td>85048</td>\n",
       "      <td>15CM CHRISTMAS GLASS BALL 20 LIGHTS</td>\n",
       "      <td>12</td>\n",
       "      <td>2009-12-01 07:45:00</td>\n",
       "      <td>6.95</td>\n",
       "      <td>13085</td>\n",
       "      <td>United Kingdom</td>\n",
       "      <td>2009</td>\n",
       "      <td>12</td>\n",
       "      <td>83.4</td>\n",
       "      <td>2009-12-01</td>\n",
       "      <td>Silver Customers</td>\n",
       "    </tr>\n",
       "    <tr>\n",
       "      <th>1</th>\n",
       "      <td>489434</td>\n",
       "      <td>79323P</td>\n",
       "      <td>PINK CHERRY LIGHTS</td>\n",
       "      <td>12</td>\n",
       "      <td>2009-12-01 07:45:00</td>\n",
       "      <td>6.75</td>\n",
       "      <td>13085</td>\n",
       "      <td>United Kingdom</td>\n",
       "      <td>2009</td>\n",
       "      <td>12</td>\n",
       "      <td>81.0</td>\n",
       "      <td>2009-12-01</td>\n",
       "      <td>Silver Customers</td>\n",
       "    </tr>\n",
       "    <tr>\n",
       "      <th>2</th>\n",
       "      <td>489434</td>\n",
       "      <td>79323W</td>\n",
       "      <td>WHITE CHERRY LIGHTS</td>\n",
       "      <td>12</td>\n",
       "      <td>2009-12-01 07:45:00</td>\n",
       "      <td>6.75</td>\n",
       "      <td>13085</td>\n",
       "      <td>United Kingdom</td>\n",
       "      <td>2009</td>\n",
       "      <td>12</td>\n",
       "      <td>81.0</td>\n",
       "      <td>2009-12-01</td>\n",
       "      <td>Silver Customers</td>\n",
       "    </tr>\n",
       "    <tr>\n",
       "      <th>3</th>\n",
       "      <td>489434</td>\n",
       "      <td>22041</td>\n",
       "      <td>RECORD FRAME 7\" SINGLE SIZE</td>\n",
       "      <td>48</td>\n",
       "      <td>2009-12-01 07:45:00</td>\n",
       "      <td>2.10</td>\n",
       "      <td>13085</td>\n",
       "      <td>United Kingdom</td>\n",
       "      <td>2009</td>\n",
       "      <td>12</td>\n",
       "      <td>100.8</td>\n",
       "      <td>2009-12-01</td>\n",
       "      <td>Silver Customers</td>\n",
       "    </tr>\n",
       "    <tr>\n",
       "      <th>4</th>\n",
       "      <td>489434</td>\n",
       "      <td>21232</td>\n",
       "      <td>STRAWBERRY CERAMIC TRINKET BOX</td>\n",
       "      <td>24</td>\n",
       "      <td>2009-12-01 07:45:00</td>\n",
       "      <td>1.25</td>\n",
       "      <td>13085</td>\n",
       "      <td>United Kingdom</td>\n",
       "      <td>2009</td>\n",
       "      <td>12</td>\n",
       "      <td>30.0</td>\n",
       "      <td>2009-12-01</td>\n",
       "      <td>Silver Customers</td>\n",
       "    </tr>\n",
       "  </tbody>\n",
       "</table>\n",
       "</div>"
      ],
      "text/plain": [
       "  Invoice StockCode                          Description  Quantity  \\\n",
       "0  489434     85048  15CM CHRISTMAS GLASS BALL 20 LIGHTS        12   \n",
       "1  489434    79323P                   PINK CHERRY LIGHTS        12   \n",
       "2  489434    79323W                  WHITE CHERRY LIGHTS        12   \n",
       "3  489434     22041         RECORD FRAME 7\" SINGLE SIZE         48   \n",
       "4  489434     21232       STRAWBERRY CERAMIC TRINKET BOX        24   \n",
       "\n",
       "          InvoiceDate  Price  Customer ID         Country  Year  Month  Sales  \\\n",
       "0 2009-12-01 07:45:00   6.95        13085  United Kingdom  2009     12   83.4   \n",
       "1 2009-12-01 07:45:00   6.75        13085  United Kingdom  2009     12   81.0   \n",
       "2 2009-12-01 07:45:00   6.75        13085  United Kingdom  2009     12   81.0   \n",
       "3 2009-12-01 07:45:00   2.10        13085  United Kingdom  2009     12  100.8   \n",
       "4 2009-12-01 07:45:00   1.25        13085  United Kingdom  2009     12   30.0   \n",
       "\n",
       "         Date          Segments  \n",
       "0  2009-12-01  Silver Customers  \n",
       "1  2009-12-01  Silver Customers  \n",
       "2  2009-12-01  Silver Customers  \n",
       "3  2009-12-01  Silver Customers  \n",
       "4  2009-12-01  Silver Customers  "
      ]
     },
     "execution_count": 64,
     "metadata": {},
     "output_type": "execute_result"
    }
   ],
   "source": [
    "# Merging data with df\n",
    "a=df.merge(data,on='Customer ID')\n",
    "a.head()"
   ]
  },
  {
   "cell_type": "markdown",
   "id": "fec62c7d",
   "metadata": {},
   "source": [
    "WHICH COUNTRY HAS MOST VALUED CUSTOMERS (PLATINUM CUSTOMERS)?"
   ]
  },
  {
   "cell_type": "code",
   "execution_count": 65,
   "id": "f0f41735",
   "metadata": {},
   "outputs": [
    {
     "data": {
      "text/plain": [
       "Country       \n",
       "United Kingdom    380070\n",
       "EIRE               15562\n",
       "Germany            10435\n",
       "France              9894\n",
       "Netherlands         4132\n",
       "dtype: int64"
      ]
     },
     "execution_count": 65,
     "metadata": {},
     "output_type": "execute_result"
    }
   ],
   "source": [
    "pc=a.loc[a['Segments']=='Platinum Customers']\n",
    "pc[['Country']].value_counts().head()"
   ]
  },
  {
   "cell_type": "markdown",
   "id": "f3f0ab37",
   "metadata": {},
   "source": [
    "WHICH CUSTOMERS ARE BRINGING HIGH REVENUE?"
   ]
  },
  {
   "cell_type": "code",
   "execution_count": 69,
   "id": "40efcdfb",
   "metadata": {},
   "outputs": [
    {
     "data": {
      "text/plain": [
       "Segments\n",
       "Platinum Customers    1.112261e+07\n",
       "Gold Customers        3.668642e+06\n",
       "Silver Customers      2.436722e+06\n",
       "Raising Stars         1.231645e+06\n",
       "Fading Flames         0.000000e+00\n",
       "Name: Sales, dtype: float64"
      ]
     },
     "execution_count": 69,
     "metadata": {},
     "output_type": "execute_result"
    }
   ],
   "source": [
    "a.groupby('Segments')['Sales'].sum().sort_values(ascending=False)"
   ]
  },
  {
   "cell_type": "markdown",
   "id": "8f2cfa33",
   "metadata": {},
   "source": [
    "United Kingdom has most valued customers followed by  eire, germany, france."
   ]
  },
  {
   "cell_type": "markdown",
   "id": "501de066",
   "metadata": {},
   "source": [
    "HOW IS THE GROWTH TREND OF PLATINUM CUSTOMERS YEARLY?"
   ]
  },
  {
   "cell_type": "code",
   "execution_count": 66,
   "id": "3f8ed9da",
   "metadata": {},
   "outputs": [
    {
     "data": {
      "text/plain": [
       "Year\n",
       "2009     31276\n",
       "2010    391358\n",
       "2011    375251\n",
       "Name: Segments, dtype: int64"
      ]
     },
     "execution_count": 66,
     "metadata": {},
     "output_type": "execute_result"
    }
   ],
   "source": [
    "py=a.groupby('Year')['Segments'].count()\n",
    "py"
   ]
  },
  {
   "cell_type": "code",
   "execution_count": 67,
   "id": "1188c7a6",
   "metadata": {},
   "outputs": [
    {
     "data": {
      "image/png": "[encoded data removed]",
      "text/plain": [
       "<Figure size 432x288 with 1 Axes>"
      ]
     },
     "metadata": {
      "needs_background": "light"
     },
     "output_type": "display_data"
    }
   ],
   "source": [
    "py.plot(kind='line')\n",
    "plt.show()"
   ]
  },
  {
   "cell_type": "markdown",
   "id": "505cb7a5",
   "metadata": {},
   "source": [
    "from 2009 to 2010 the number of platinum customers increased drastically further we cannot see much growth."
   ]
  },
  {
   "cell_type": "markdown",
   "id": "c982f8c0",
   "metadata": {},
   "source": [
    "# INSIGHTS"
   ]
  },
  {
   "cell_type": "markdown",
   "id": "03e43995",
   "metadata": {},
   "source": [
    "-  The business is more centered in UK.\n",
    "-  WHITE HANGING HEART T-LIGHT HOLDER is the high demand product in terms of orders\n",
    "-  No proper monthly orders trend could be seen. The orders are varying. No stability.\n",
    "-  Manual, REGENCY CAKESTAND 3 TIER, BAKING SET 9 PIECE RETROSPOT are the top 3 cancelled products.\n",
    "What could be the reason for the cancellation? Quality issues? No much information is provided for further analysis.\n",
    "-  Though platinum customers are bringing more revenue, Raising Stars are the customers who are more engaged in terms of orders."
   ]
  },
  {
   "cell_type": "markdown",
   "id": "65294a0c",
   "metadata": {},
   "source": [
    "# RECOMMENDATIONS"
   ]
  },
  {
   "cell_type": "markdown",
   "id": "3dfd65e1",
   "metadata": {},
   "source": [
    "-  The business has to be expanded in other countries too for better sales.\n",
    "-  Further investigation is needed for the products which have least sales.(Whether they are profitable or not).If sales and profit both are less then better to focus on other products.\n",
    "-  Quality of cancelled products has to be checked.\n",
    "-  Raising stars are most engaging customers, so special offers or discounts( less %) must be provided in order to retain them.\n",
    "-  platinum customers are most value genrating customers in terms of revenue. Offers or bonus points and better recommendations of products must be given to retain them.\n",
    "- Fading flames are low so, marketing especially to them is required to encourage and promote business.\n",
    "\n"
   ]
  },
  {
   "cell_type": "code",
   "execution_count": null,
   "id": "433a4958",
   "metadata": {},
   "outputs": [],
   "source": []
  }
 ],
 "metadata": {
  "kernelspec": {
   "display_name": "Python 3 (ipykernel)",
   "language": "python",
   "name": "python3"
  },
  "language_info": {
   "codemirror_mode": {
    "name": "ipython",
    "version": 3
   },
   "file_extension": ".py",
   "mimetype": "text/x-python",
   "name": "python",
   "nbconvert_exporter": "python",
   "pygments_lexer": "ipython3",
   "version": "3.9.7"
  }
 },
 "nbformat": 4,
 "nbformat_minor": 5
}
